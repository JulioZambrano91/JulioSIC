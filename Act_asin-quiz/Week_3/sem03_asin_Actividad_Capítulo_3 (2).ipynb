{
 "cells": [
  {
   "cell_type": "markdown",
   "id": "5ad8356f",
   "metadata": {},
   "source": [
    "# Actividades Capítulo 3.\n",
    "\n",
    "\n",
    "# Concepto básico de programación e inicio en Python\n",
    "\n",
    "## Resumen de actividades\n",
    "\n",
    "\n",
    "- **Unidad 17.** Función\n",
    "- **Unidad 18.** Llamada a la función de recurrencia.\n",
    "- **Unidad 19.** Lambda\n",
    "- **Unidad 20.** Clausura\n",
    "- **Unidad 21.** Clase\n"
   ]
  },
  {
   "cell_type": "markdown",
   "id": "8c5aa9c8",
   "metadata": {},
   "source": [
    "# Actividad: Creacion de funciones.\n",
    "\n",
    "\n",
    "## Instrucciones\n",
    "\n",
    "1. Defina en forma breve el concepto de función.\n",
    "\n",
    "2. Crear una función para realizar la suma de los números impares en el rango de 0 a 100, dentro de la función imprima los valores sumados y al final retorne el resultado de la sumatoria.\n"
   ]
  },
  {
   "cell_type": "code",
   "execution_count": 22,
   "id": "90cd2e33",
   "metadata": {
    "scrolled": true
   },
   "outputs": [
    {
     "name": "stdout",
     "output_type": "stream",
     "text": [
      "La suma de los impares del 1 al 100 es: 2500\n"
     ]
    }
   ],
   "source": [
    "# Espacio para desarrollar el código requerido, recuerde agregar algunos\n",
    "# comentarios breves sobre su funcionamiento.\n",
    "\n",
    "#CONCEPTO FUNCION: Son codigo reutilizable que podemos llamar la veces que queramos y que cumplen unicamente con una determinada tarea como: \n",
    "#verificar si la clave que le dio el usuario es valida al ID para logearse.\n",
    "\n",
    "def suma_impar():\n",
    "    total = 0\n",
    "    for i in range(1,101):\n",
    "        if i % 2 != 0:\n",
    "            total += i\n",
    "    print('La suma de los impares del 1 al 100 es: {}'.format(total))\n",
    "\n",
    "suma_impar()\n",
    "\n",
    "\n",
    "\n",
    "\n",
    "\n"
   ]
  },
  {
   "cell_type": "markdown",
   "id": "a11871f3",
   "metadata": {},
   "source": [
    "# Actividad: Diseñe una función para codificar strings y otra para decodificar strings.\n",
    "\n",
    "1. Revise documentación relacionada a los procesos de encriptación, explique brevemente como funcionan.\n",
    "2. Ambas funciones deben tener como entrada un string y una ¨Clave\", la ¨Clave¨ será usada para codificar y decodificar.\n",
    "3. El desarrollo de está actividad esta abierto a multiples soluciones, por favor sea original en su respuesta.\n"
   ]
  },
  {
   "cell_type": "code",
   "execution_count": 18,
   "id": "1e7a5371",
   "metadata": {},
   "outputs": [
    {
     "name": "stdin",
     "output_type": "stream",
     "text": [
      "\n",
      "    1. Codificar mensaje\n",
      "    2. Descodificar mensaje\n",
      "    Seleccione una opcion:\n",
      "     2\n",
      "Introduce el texto codificado:  ryvk\n",
      "Inserte la clave para codificar el mensaje:  1234\n"
     ]
    },
    {
     "name": "stdout",
     "output_type": "stream",
     "text": [
      "El mensaje descodificado es:\n",
      "hola"
     ]
    }
   ],
   "source": [
    "# Espacio para desarrollar la actividad, si tienes alguna duda o comentario adicional\n",
    "# lo puedes dejar planteado acá.\n",
    "\n",
    "import time\n",
    "import string\n",
    "\n",
    "\n",
    "########################################\n",
    "#\n",
    "#\n",
    "# Funciones que usaremos para codificar y descodificar\n",
    "#\n",
    "#\n",
    "##########################################\n",
    "\n",
    "def menu ():\n",
    "    opc = int(input(\"\"\"\n",
    "    1. Codificar mensaje\n",
    "    2. Descodificar mensaje\n",
    "    Seleccione una opcion:\n",
    "    \"\"\"))\n",
    "    if opc == 1:\n",
    "\n",
    "        texto_cifrado = input('Introduzca la frase que quiere cifra: ')\n",
    "        codificador(texto_cifrado)  # codificamos el mensaje\n",
    "        verificar_clave(opc) # llamamos a la funcion responsable para validar la codificacion\n",
    "\n",
    "    elif opc == 2:\n",
    "\n",
    "        text_codificado = input(\"Introduce el texto codificado: \")\n",
    "        verificar_clave(opc, text_codificado)\n",
    "    else:\n",
    "        print('Opcion invalida')\n",
    "\n",
    "\n",
    "def verificar_clave(opc, txt=\"none\"): #verificamos clave y como argumento la opcion que selecciono el usuario\n",
    "\n",
    "    intentos = 2\n",
    "\n",
    "    while intentos != -1:\n",
    "\n",
    "        clave = input('Inserte la clave para codificar el mensaje: ')\n",
    "\n",
    "        if clave == clave_codificador and opc == 1:\n",
    "            mostrarMensaje()\n",
    "            break\n",
    "        elif clave != clave_codificador and opc == 1:\n",
    "            validar_datos(intentos)\n",
    "            intentos -= 1\n",
    "        else:\n",
    "            if clave == clave_codificador and opc == 2:\n",
    "                descodificacion(txt)\n",
    "                break\n",
    "            else:\n",
    "                validar_datos(intentos)\n",
    "                intentos -= 1\n",
    "\n",
    "def codificador(texto): #codificamos el mensaje que el usuario envio\n",
    "    for ch in texto:\n",
    "        if ch in source:\n",
    "            mensaje.append(cifrador(ch)) # a la variable mensaje se le pasa cada caracter del cifrado, esta está declarada en la parte de abajo\n",
    "\n",
    "\n",
    "def mostrarMensaje(): #mostramos por pantalla el mensaje codificado\n",
    "    print('El mensaje codificado es:')\n",
    "    for i in mensaje:\n",
    "        if i in source:\n",
    "            print(cifrador(i), end='')\n",
    "        else:\n",
    "            print(i, end='')\n",
    "\n",
    "def cifrador(arg): # devuelve el texto cifrado\n",
    "    index = source.index(arg)\n",
    "    return texto_codificado[index]\n",
    "\n",
    "def descifrador(arg): # desvela lo que dice un mensaje cifrado\n",
    "    index = source.index(arg)\n",
    "    return source[index - 10]\n",
    "\n",
    "\n",
    "\n",
    "def descodificacion(txt): #imprime el mensaje descodificado\n",
    "    print('El mensaje descodificado es:')\n",
    "    for i in txt:\n",
    "        if i in source:\n",
    "            print(descifrador(i), end='')\n",
    "        else:\n",
    "            print(i, end='')\n",
    "\n",
    "def validar_datos(intentos):\n",
    "\n",
    "    global mensaje # el global NO ES RECOMENDADO, pero no supe como hacerle para llamar exactamente a la variable msg desde aqui\n",
    "\n",
    "    if intentos == 1:  # si nos queda un intento, mostrara este mensaje\n",
    "        print(\"\\n<!!> ADVERTENCIA: Si digita mal la clave otra vez la informacion sera borrada\\n\")\n",
    "\n",
    "    if intentos != 0:  # mientras nos quede intentos se mostraran esta lineas de codigo\n",
    "\n",
    "        intentos -= 1\n",
    "        print('\\nERROR: La clave no coincide')\n",
    "        print('Espere 3 segundos para insertar la clave de nuevo\\n')\n",
    "        time.sleep(3)  # tiempo de espera entre cada intento\n",
    "\n",
    "    else:  # si nos quedamos sin intentos el mensaje que codificamos no se le mostrara al usuario\n",
    "\n",
    "        intentos -= 1\n",
    "        print('La codificacion del mensaje se ha perdido!')\n",
    "        mensaje = []  # antes de llamar a la funcion, se codifico el msg en memoria, aqui reescribimos la variable para que se borre el contenido\n",
    "\n",
    "\n",
    "\n",
    "########################################\n",
    "#\n",
    "#\n",
    "# Cuerpo principal del programa\n",
    "#\n",
    "#\n",
    "##########################################\n",
    "\n",
    "# pueden usar este mensaje cifrado como prueba: ryvk\n",
    "\n",
    "clave_codificador = '1234' # clave que debemos poner para validar la codificacion/descodificacion\n",
    "mensaje = [] #variable donde guardaremos el mensaje codificado\n",
    "\n",
    "source = string.ascii_letters + \" \" # guardamos todos los caracteres del abecedario junto a un espacio en blanco.\n",
    "texto_codificado = source[5:] + source[:5] # algoritmo de codificacion principal\n",
    "\n",
    "menu()"
   ]
  },
  {
   "cell_type": "markdown",
   "id": "a207d974",
   "metadata": {},
   "source": [
    "\n",
    "# Actividad: Diseñe y codifique una función.\n",
    "\n",
    "1. Diseñe una función que revise el contenido de una carpeta, la mision de esta funcion es revisar todas las carpetas existentes y obtener los nommbres de los archivos contenidos.\n",
    "2. Considere que dentro de cada carpete pueden existir otras carpetas.\n",
    "3. Todas las carpetas deben ser revisadas.\n",
    "4. Con la ejecucion de la siguiente celda se crearan las carpetas y los archivos.\n",
    "5. Es posible que debas considerar el uso de una función recursiva."
   ]
  },
  {
   "cell_type": "code",
   "execution_count": 9,
   "id": "b4ac1d5a",
   "metadata": {},
   "outputs": [
    {
     "name": "stdout",
     "output_type": "stream",
     "text": [
      "Carpeta_principal\n",
      "Carpeta_principal/folder_0\n",
      "Carpeta_principal\\folder_0\n",
      "Carpeta_principal\\folder_0/folder_0\n",
      "Carpeta_principal\\folder_0/folder_1\n",
      "Carpeta_principal\\folder_0/folder_2\n",
      "Carpeta_principal\\folder_0/folder_3\n",
      "Carpeta_principal\\folder_0/folder_4\n",
      "Carpeta_principal\\folder_0\\folder_0\n",
      "Carpeta_principal\\folder_0\\folder_0/folder_6\n",
      "Carpeta_principal\\folder_0\\folder_0\\folder_6\n",
      "Carpeta_principal\\folder_0\\folder_0\\folder_6/folder_2\n",
      "Carpeta_principal\\folder_0\\folder_0\\folder_6\\folder_2\n",
      "Carpeta_principal\\folder_0\\folder_1\n",
      "Carpeta_principal\\folder_0\\folder_2\n",
      "Carpeta_principal\\folder_0\\folder_3\n",
      "Carpeta_principal\\folder_0\\folder_4\n"
     ]
    }
   ],
   "source": [
    "import os\n",
    "import random\n",
    "\n",
    "def guardar_archivo(text_content, file_path):\n",
    "    with open(file_path, 'w') as file:\n",
    "        # Write the text content to the file\n",
    "        file.write(text_content)\n",
    "\n",
    "\n",
    "if os.path.exists(\"Carpeta_principal\"):\n",
    "    os.system(f'rm -r \"Carpeta_principal\"')\n",
    "\n",
    "os.mkdir(\"Carpeta_principal\")\n",
    "# Inicialización\n",
    "\n",
    "\n",
    "\n",
    "def crear_carpetas(ruta_actual):\n",
    "    global numeracion_del_archivo, numero_de_sub_carpetas\n",
    "    numero_de_archivos_o_carpetas = random.randint(0,15) # genración de numero aleatorio entre 0 y 15.\n",
    "    print(ruta_actual)\n",
    "    if numero_de_sub_carpetas < max_carpetas:\n",
    "        for n in range(0, numero_de_archivos_o_carpetas):\n",
    "\n",
    "            numero_aleatorio_2 = random.randint(0,2) # número aleatoria entre 0 y 1.\n",
    "            if numero_aleatorio_2 == 0:\n",
    "                os.mkdir(ruta_actual +'/'+ 'folder_{}'.format(n) )\n",
    "                print(ruta_actual +'/'+ 'folder_{}'.format(n))\n",
    "            else:\n",
    "                contenido_del_archivo = \"Contenido_{}\".format(numeracion_del_archivo)                \n",
    "                ruta_del_archivo = ruta_actual + '/' + \"archivo_{}.text\".format(numeracion_del_archivo)\n",
    "#                 print(\"ruta_del_archivo: \", ruta_del_archivo)\n",
    "                guardar_archivo(contenido_del_archivo, ruta_del_archivo)\n",
    "                numeracion_del_archivo += 1\n",
    "                \n",
    "        lista_de_nuevas_carpetas = [f.path for f in os.scandir(ruta_actual) if f.is_dir()] # Busqueda de nueva carpeta\n",
    "\n",
    "        numero_de_sub_carpetas += 1\n",
    "        for carpeta in lista_de_nuevas_carpetas:\n",
    "            crear_carpetas(carpeta)\n",
    "        \n",
    "max_carpetas = 4\n",
    "numeracion_del_archivo = 0\n",
    "numero_de_sub_carpetas = 0\n",
    "ruta_actual = \"Carpeta_principal\"\n",
    "crear_carpetas(ruta_actual)"
   ]
  },
  {
   "cell_type": "code",
   "execution_count": 16,
   "id": "a4f925a4",
   "metadata": {},
   "outputs": [
    {
     "name": "stdout",
     "output_type": "stream",
     "text": [
      "Archivo: Carpeta_principal\\archivo_0.text\n",
      "Archivo: Carpeta_principal\\folder_0\\folder_0\\archivo_1.text\n",
      "Archivo: Carpeta_principal\\folder_0\\folder_0\\archivo_2.text\n",
      "Archivo: Carpeta_principal\\folder_0\\folder_0\\archivo_3.text\n",
      "Archivo: Carpeta_principal\\folder_0\\folder_0\\archivo_4.text\n",
      "Archivo: Carpeta_principal\\folder_0\\folder_0\\archivo_5.text\n",
      "Archivo: Carpeta_principal\\folder_0\\folder_0\\archivo_6.text\n",
      "Archivo: Carpeta_principal\\folder_0\\folder_0\\folder_6\\archivo_7.text\n",
      "Archivo: Carpeta_principal\\folder_0\\folder_0\\folder_6\\archivo_8.text\n"
     ]
    }
   ],
   "source": [
    "# Celda para desarrollar \n",
    "import os\n",
    "\n",
    "def revisarCarpetas(ruta):\n",
    "    \n",
    "    if os.path.isdir(ruta):\n",
    "        for elemento in os.listdir(ruta):\n",
    "            ruta_completa = os.path.join(ruta, elemento)\n",
    "            if os.path.isdir(ruta_completa):\n",
    "                revisarCarpetas(ruta_completa)\n",
    "            else:\n",
    "\n",
    "                print(f'Archivo: {ruta_completa}')\n",
    "\n",
    "revisarCarpetas(ruta_actual)\n",
    "\n",
    "\n",
    "\n"
   ]
  },
  {
   "cell_type": "markdown",
   "id": "26a6bb9e",
   "metadata": {},
   "source": [
    "# Actividad: Crear diccionarios y guardarlos como archivo JSON.\n",
    "\n",
    "De la unidad 11 sección 4.6 revise el ejemplo mostrado.\n",
    "\n",
    "Genera un diccionario, sobre la información que deseas guardar como base de datos, desarrollo el código necesario para generar el archivo JSON, y también el código para cargar la información del archivo JSON.\n"
   ]
  },
  {
   "cell_type": "code",
   "execution_count": 9,
   "id": "6670eace",
   "metadata": {},
   "outputs": [
    {
     "name": "stdout",
     "output_type": "stream",
     "text": [
      "{'nombre': 'Juan', 'id': 1, 'edad': 20}\n"
     ]
    }
   ],
   "source": [
    "# Espacio para desarrollar el código.\n",
    "import json\n",
    "\n",
    "dict = '{\"nombre\": \"Juan\", \"id\": 1, \"edad\": 20}'\n",
    "\n",
    "dict_load = json.loads(dict)\n",
    "\n",
    "with open (\"dict.json\", \"w\") as f:\n",
    "    json.dump(dict_load, f, indent=\"\\t\")\n",
    "\n",
    "with open(\"dict.json\", \"r\") as f:\n",
    "    datosCargados = dict_load\n",
    "\n",
    "print(datosCargados)\n",
    "\n",
    "\n"
   ]
  },
  {
   "cell_type": "markdown",
   "id": "fbfb4985",
   "metadata": {},
   "source": [
    "# Actividad: Uso de la funcion Lambda.\n",
    "\n",
    "## Instrucciones\n",
    "\n",
    "1. Escriba una función regular donde se realice una operación.\n",
    "2. Escriba la misma función donde use la expresión lambda.\n",
    "3. Explica brevemente las ventajas de usar la función Lambda.\n"
   ]
  },
  {
   "cell_type": "code",
   "execution_count": 30,
   "id": "fc5b1a43",
   "metadata": {},
   "outputs": [
    {
     "name": "stdout",
     "output_type": "stream",
     "text": [
      "suma: 5\n",
      "suma 2: 10\n"
     ]
    }
   ],
   "source": [
    "# Espacio para desarrollar el código siguiendo las instrucciones.\n",
    "\n",
    "def suma(a,b):\n",
    "    return print('suma:', a + b)\n",
    "\n",
    "suma(2,3)\n",
    "\n",
    "suma2 = lambda a, b: (a + b)\n",
    "suma2(2,3)\n",
    "print('suma 2:', suma2(3,7))\n",
    "\n",
    "# Las funciones lambda simplifican el codigo al permitir la definición de funciones pequeñas y temporales en una sola línea.\n"
   ]
  },
  {
   "cell_type": "markdown",
   "id": "98938d2d",
   "metadata": {},
   "source": [
    "# Actividad: Usar la función map para duplicar el valor de cada uno de los elementos contenidos.\n",
    "\n",
    "## Instrucciones\n",
    "\n",
    "1. Describa brevemente el funcionamiento y las ventajas de usar la función map\n",
    "2. Escriba el código en el siguiente espacio."
   ]
  },
  {
   "cell_type": "code",
   "execution_count": 50,
   "id": "a35ef1b7",
   "metadata": {},
   "outputs": [
    {
     "name": "stdout",
     "output_type": "stream",
     "text": [
      "4\n",
      "6\n",
      "8\n",
      "10\n",
      "16\n",
      "18\n",
      "20\n",
      "22\n",
      "30\n",
      "40\n"
     ]
    }
   ],
   "source": [
    "# Espacio para desarrollar el código.\n",
    "# La función map aplica una función a cada elemento de un iterable, simplificando el procesamiento de datos de forma eficiente.\n",
    "\n",
    "numero = [2,3,4,5,8,9,10,11,15,20]\n",
    "\n",
    "numero_duplicados = map(lambda x:x*2, numero)\n",
    "\n",
    "for i in numero_duplicados:\n",
    "    print(i)\n",
    "\n",
    "\n",
    "\n"
   ]
  }
 ],
 "metadata": {
  "kernelspec": {
   "display_name": "Python 3 (ipykernel)",
   "language": "python",
   "name": "python3"
  },
  "language_info": {
   "codemirror_mode": {
    "name": "ipython",
    "version": 3
   },
   "file_extension": ".py",
   "mimetype": "text/x-python",
   "name": "python",
   "nbconvert_exporter": "python",
   "pygments_lexer": "ipython3",
   "version": "3.12.4"
  }
 },
 "nbformat": 4,
 "nbformat_minor": 5
}
