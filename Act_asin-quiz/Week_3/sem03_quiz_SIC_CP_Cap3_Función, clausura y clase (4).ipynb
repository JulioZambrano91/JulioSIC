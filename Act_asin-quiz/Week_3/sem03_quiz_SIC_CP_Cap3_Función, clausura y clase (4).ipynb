{
 "cells": [
  {
   "cell_type": "markdown",
   "id": "5ad8356f",
   "metadata": {},
   "source": [
    "# Coding and Programming\n",
    "\n",
    "## Capítulo 3\n",
    "\n",
    "### Función, clausura y clase\n",
    "\n",
    "- **Unidad 17.** Función\n",
    "- **Unidad 18.** Llamada a la función de recurrencia.\n",
    "- **Unidad 19.** Lambda\n",
    "- **Unidad 20.** Clausura\n",
    "- **Unidad 21.** Clase\n",
    "\n",
    "# Quiz 3"
   ]
  },
  {
   "cell_type": "markdown",
   "id": "7f00f426-b614-427d-a8e5-e80315e77944",
   "metadata": {},
   "source": [
    "Alumno: Julio Zambrano\n",
    "C.I: 30720044\n",
    "TLF 0424 1880405\n",
    "CORREO JULIOZAMBRANOCL@gmail.com"
   ]
  },
  {
   "cell_type": "markdown",
   "id": "a94ec368",
   "metadata": {},
   "source": [
    "___"
   ]
  },
  {
   "cell_type": "markdown",
   "id": "a11871f3",
   "metadata": {},
   "source": [
    "## Q 17-01\n",
    "\n",
    "Reciba las coordenadas `(x1, y1), (x2, y2)` de dos puntos del usuario e imprima la distancia entre los dos puntos de la siguiente manera. Para hacer esto, implemente la función `distancia(x1, y1, x2, y2)`.\n",
    "\n",
    "\n",
    "**Pauta de código:** consulte la fórmula para encontrar la distancia entre dos puntos.\n"
   ]
  },
  {
   "cell_type": "code",
   "execution_count": 62,
   "id": "9a9c4050-7570-44e7-bacd-82153146569b",
   "metadata": {},
   "outputs": [
    {
     "name": "stdin",
     "output_type": "stream",
     "text": [
      "Digite la cordena X del primer punto 5\n",
      "Digite la cordena Y del primer punto 2\n",
      "Digite la cordena X del segundo punto 4\n",
      "Digite la cordena Y del segundo punto 4\n"
     ]
    },
    {
     "name": "stdout",
     "output_type": "stream",
     "text": [
      "La distancia entre los dos puntos es: 2.24cm\n"
     ]
    }
   ],
   "source": [
    "from math import sqrt\n",
    "\n",
    "def distancia(x1,y1,x2,y2):\n",
    "    d = sqrt((x2-x1)**2 + (y2-y1)**2)\n",
    "    \n",
    "    d = round(d, 2)\n",
    "    \n",
    "    return print('La distancia entre los dos puntos es: {}cm'.format(d))\n",
    "    \n",
    "x1 = int(input(\"Digite la cordena X del primer punto\"))\n",
    "\n",
    "y1 = int(input(\"Digite la cordena Y del primer punto\"))\n",
    "\n",
    "x2 = int(input(\"Digite la cordena X del segundo punto\"))\n",
    "\n",
    "y2 = int(input(\"Digite la cordena Y del segundo punto\"))\n",
    "\n",
    "distancia(x1,y1,x2,y2)"
   ]
  },
  {
   "cell_type": "markdown",
   "id": "a207d974",
   "metadata": {},
   "source": [
    "## Q 18-01\n",
    "\n",
    "Un palíndromo es una oración, palabra o cadena que es lo mismo que leer cualquier carácter de forma consecutiva.\n",
    "\n",
    "Por ejemplo, hay palabras como level, kayak, salas, somos, radar, reconocer.\n",
    "\n",
    "Usemos una llamada recursiva para determinar el palíndromo.\n",
    "\n",
    "Defina una función llamada `is_palindrome` y escriba un programa que reciba una cadena del usuario e imprima si el palindrome es correcto o no.\n",
    "\n",
    "**Pauta de código:** Llame a la función `is_palindrome` dentro de la función `is_palindrome`"
   ]
  },
  {
   "cell_type": "code",
   "execution_count": 54,
   "id": "062c531f-71a6-4851-b7ed-912eb03ec586",
   "metadata": {},
   "outputs": [
    {
     "name": "stdin",
     "output_type": "stream",
     "text": [
      "Ingrese una palabra: Hola\n"
     ]
    },
    {
     "data": {
      "text/plain": [
       "False"
      ]
     },
     "execution_count": 54,
     "metadata": {},
     "output_type": "execute_result"
    }
   ],
   "source": [
    "def is_palindrome(palabra):\n",
    "    \n",
    "    palabra = palabra.lower() #letras a minusculas\n",
    "    \n",
    "    palabra = palabra.replace(\" \", \"\") # quitamos los espacios\n",
    "    \n",
    "    if len(palabra) <= 1: #si la longitud es igual o menor a 1 es palindroma la palabra\n",
    "        \n",
    "        return True\n",
    "    \n",
    "    if palabra[0] == palabra[len(palabra) - 1]:\n",
    "        \n",
    "        return is_palindrome(palabra[1:-1])\n",
    "\n",
    "    else:\n",
    "        \n",
    "        return False\n",
    "\n",
    "\n",
    "\n",
    "cadena = str(input('Ingrese una palabra:'))\n",
    "is_palindrome(cadena)"
   ]
  },
  {
   "cell_type": "markdown",
   "id": "fbfb4985",
   "metadata": {},
   "source": [
    "## Q 19-01\n",
    "\n",
    "\n",
    "Después de poner una lista llamada `n_list` con valores de `[10, 20, 30]` en la función `map`.\n",
    "\n",
    "```\n",
    "n_list = [10,20,30]\n",
    "twice  = list(map(lambda x: x*2, n_list))\n",
    "triple = list(map(lambda x: x*3, n_list))\n",
    "```\n",
    "\n",
    "Indique el contenido de las variables `twice` y `triple`."
   ]
  },
  {
   "cell_type": "code",
   "execution_count": 24,
   "id": "df4d575a-ab6d-4d48-9dd3-326eff3ad38b",
   "metadata": {},
   "outputs": [
    {
     "name": "stdout",
     "output_type": "stream",
     "text": [
      "[20, 40, 60] [30, 60, 90]\n"
     ]
    }
   ],
   "source": [
    "n_list = [10,20,30]\n",
    "twice  = list(map(lambda x: x*2, n_list))\n",
    "triple = list(map(lambda x: x*3, n_list))\n",
    "\n",
    "print(twice, triple)"
   ]
  },
  {
   "cell_type": "markdown",
   "id": "98938d2d",
   "metadata": {},
   "source": [
    "## Q 20-01\n",
    "\n",
    "En el siguiente código, espere qué valor se incluye finalmente en `num_list`. Calcule el resultado esperado a mano.\n",
    "\n",
    "**Pauta de codificación:** Escriba 5 veces la declaración `for`. Espere este resultado y envíe el resultado.\n",
    "\n",
    "```\n",
    "def calc_digit(n):\n",
    "    def findal(digit):\n",
    "        return digit**n\n",
    "    return final\n",
    "\n",
    "num_list = []\n",
    "for num in range(1,6):\n",
    "    num_list.append( calc_digit(num) )\n",
    "    print( num_list[num-1](num) )\n",
    "```"
   ]
  },
  {
   "cell_type": "code",
   "execution_count": 34,
   "id": "5031a5f5-dfd6-46b0-93ff-9829fb3303a4",
   "metadata": {},
   "outputs": [
    {
     "name": "stdout",
     "output_type": "stream",
     "text": [
      "1\n",
      "4\n",
      "27\n",
      "256\n",
      "3125\n"
     ]
    }
   ],
   "source": [
    "def calc_digit(n):\n",
    "    \n",
    "    def final(digit):\n",
    "        \n",
    "        return digit**n\n",
    "        \n",
    "    return final\n",
    "\n",
    "num_list = []\n",
    "for num in range(1,6):\n",
    "    num_list.append( calc_digit(num) )\n",
    "    print( num_list[num-1](num) )"
   ]
  },
  {
   "cell_type": "markdown",
   "id": "d3ece88b",
   "metadata": {},
   "source": [
    "## Q 21-01\n",
    "\n",
    "Implemente las funciones de multiplicación (*) y división (/) de dos vectores usando los métodos `mul` y `truediv` aprendidos en la **unidad 21**. Suponiendo que `v1` es `(30, 40)` y `v2` es `(10, 20)`, codifique (escriba la declaración de salida) para devolver el siguiente resultado como resultado de la multiplicación y división de dos vectores.\n",
    "\n",
    "\n",
    "**Pauta de codificación:** escriba código que amplíe la funcionalidad de la clase `Vector2D` que aprendió en este capítulo."
   ]
  },
  {
   "cell_type": "code",
   "execution_count": 70,
   "id": "a21853cd-1d3f-4efb-8eb9-4c6df1ff681f",
   "metadata": {},
   "outputs": [
    {
     "name": "stdout",
     "output_type": "stream",
     "text": [
      "La multiplicacion del vector (30, 40) es igual a: 1200 \n",
      "\n",
      "La division del vector (30, 40) es igual a: 0.75 \n",
      "\n",
      "La multiplicacion del vector (10, 20) es igual a: 200 \n",
      "\n",
      "La division del vector (10, 20) es igual a: 0.5 \n",
      "\n"
     ]
    }
   ],
   "source": [
    "class Vector2D:\n",
    "    def __init__(self, x, y):\n",
    "        self.x = x\n",
    "        self.y = y\n",
    "\n",
    "    def mul(self):\n",
    "        multiplicacion = self.x * self.y\n",
    "        return print('La multiplicacion del vector ({}, {}) es igual a: {}'.format(self.x, self.y, multiplicacion), '\\n')\n",
    "\n",
    "    def truediv(self):\n",
    "        div = self.x / self.y\n",
    "        return print('La division del vector ({}, {}) es igual a: {}'.format(self.x, self.y, div), '\\n')\n",
    "\n",
    "v1 = Vector2D(30,40)\n",
    "v2 = Vector2D(10,20)\n",
    "\n",
    "v1.mul()\n",
    "v1.truediv()\n",
    "\n",
    "v2.mul()\n",
    "v2.truediv()"
   ]
  },
  {
   "cell_type": "markdown",
   "id": "2717ce09",
   "metadata": {},
   "source": [
    "___"
   ]
  },
  {
   "cell_type": "markdown",
   "id": "10514335",
   "metadata": {},
   "source": [
    "# Fin"
   ]
  }
 ],
 "metadata": {
  "kernelspec": {
   "display_name": "Python 3 (ipykernel)",
   "language": "python",
   "name": "python3"
  },
  "language_info": {
   "codemirror_mode": {
    "name": "ipython",
    "version": 3
   },
   "file_extension": ".py",
   "mimetype": "text/x-python",
   "name": "python",
   "nbconvert_exporter": "python",
   "pygments_lexer": "ipython3",
   "version": "3.12.4"
  }
 },
 "nbformat": 4,
 "nbformat_minor": 5
}
