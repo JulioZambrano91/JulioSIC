{
 "cells": [
  {
   "cell_type": "markdown",
   "id": "5d671b98",
   "metadata": {},
   "source": [
    "# Actividades Capítulo 4 - Estructuras de Datos\n",
    "\n",
    "Resumen de la actividad.\n",
    "\n",
    "\n",
    "- **1. Pilas y Colas**\n",
    "  - Actividad 1.2 - Implementar una Cola\n",
    "\n",
    "\n",
    "- **2. Búsqueda Secuencial**\n",
    "  - Actividad 2.1 - Búsqueda en una Lista\n",
    "\n",
    "\n",
    "- **3. Búsqueda Binaria**\n",
    "  - Actividad 3.1 - Búsqueda Binaria\n",
    "\n",
    "\n",
    "- **4. Tablas Hash**\n",
    "  - Actividad 4.1 - Implementar una Tabla Hash"
   ]
  },
  {
   "cell_type": "markdown",
   "id": "9ca8075f-ad76-48c3-86bd-5e5fef72de69",
   "metadata": {},
   "source": [
    "##### Alumno: Julio Zambrano\n",
    "##### C.I: 30.720.044\n",
    "##### TLF: 0424-1880405\n",
    "##### Correo: JulioZambranocl@gmail.com"
   ]
  },
  {
   "cell_type": "markdown",
   "id": "33866775",
   "metadata": {},
   "source": [
    "# Actividad: Implementación de una Pila en Python\n",
    "\n",
    "En esta actividad, tendrás la oportunidad de aplicar tus conocimientos sobre estructuras de datos y programación en Python para implementar una pila (stack). Una pila es una estructura de datos que sigue el principio \"Last-In-First-Out\" (LIFO), lo que significa que el último elemento que se agrega es el primero en ser eliminado.\n",
    "\n",
    "## Resumen:\n",
    "\n",
    "- **stack** = [ ]  # Recordando que una pila es básicamente una lista.\n",
    "- **append**: Método utilizado para agregar un elemento a la lista.\n",
    "- **pop**: Método usado para eliminar elementos de la lista, sino se especifica el índice se elimina el último elemento y retorna la lista resultante."
   ]
  },
  {
   "cell_type": "code",
   "execution_count": 92,
   "id": "fbb2dca1",
   "metadata": {},
   "outputs": [
    {
     "name": "stdout",
     "output_type": "stream",
     "text": [
      "Lista para inicial Z: ['Zacarías', 'Zoe', 'Zaira']\n",
      "Lista para inicial Y: ['Yenny', 'Yolanda']\n",
      "Lista para inicial X: ['Xavier', 'Ximena']\n",
      "Lista para inicial V: ['Verónica', 'Víctor']\n",
      "Lista para inicial T: ['Teresa', 'Tomás']\n",
      "Lista para inicial S: ['Silvia', 'Sergio', 'Sara']\n",
      "Lista para inicial R: ['Rosario', 'Roberto', 'Renata', 'Rafael', 'Raquel']\n",
      "Lista para inicial P: ['Pedro', 'Paula', 'Pablo']\n",
      "Lista para inicial O: ['Olivia']\n",
      "Lista para inicial Ó: ['Óscar']\n",
      "Lista para inicial N: ['Nora', 'Nicolás', 'Natalia']\n",
      "Lista para inicial M: ['Miguel', 'María', 'Manuel']\n",
      "Lista para inicial L: ['Lorena', 'Lucía', 'Luis']\n",
      "Lista para inicial J: ['Juan']\n",
      "Lista para inicial I: ['Isabel']\n",
      "Lista para inicial H: ['Hugo']\n",
      "Lista para inicial G: ['Gabriela']\n",
      "Lista para inicial F: ['Fernando']\n",
      "Lista para inicial E: ['Elena']\n",
      "Lista para inicial D: ['David']\n",
      "Lista para inicial C: ['Carlos']\n",
      "Lista para inicial A: ['Ana']\n",
      "\n",
      "Pila: []\n",
      "Nombres aleatorios: []\n"
     ]
    }
   ],
   "source": [
    "nombres_aleatorios = [\"Ana\", \"Carlos\", \"David\", \"Elena\", \"Fernando\", \"Gabriela\",\n",
    "                      \"Hugo\", \"Isabel\", \"Juan\", \"Luis\", \"Lucía\",\n",
    "                      \"Lorena\", \"Manuel\", \"María\", \"Miguel\", \"Natalia\",\n",
    "                      \"Nicolás\", \"Nora\", \"Óscar\", \"Olivia\", \"Pablo\", \"Paula\",\n",
    "                      \"Pedro\", \"Raquel\", \"Rafael\", \"Renata\", \"Roberto\", \"Rosario\",\n",
    "                      \"Sara\", \"Sergio\", \"Silvia\", \"Tomás\", \"Teresa\", \"Víctor\", \"Verónica\",\n",
    "                      \"Ximena\", \"Xavier\", \"Yolanda\", \"Yenny\", \"Zaira\", \"Zoe\", \"Zacarías\"]\n",
    "\n",
    "# Generar un código para revisar los nombres contenidos en la lista, y guardarlos en diferentes listas,\n",
    "# de acuerdo a la inicial del nombre, use los comandos usandos antenirmente y barra los elementos usando \n",
    "# el comando \"for nombre in nombres_aleatorios:\" al final del proceso la lista inicial debe quedar vacia.\n",
    "\n",
    "letras = {}\n",
    "pila_nombres = []\n",
    "\n",
    "apilar = lambda pila, elemento: pila.append(elemento)\n",
    "sacar = lambda pila: pila.pop()  \n",
    "\n",
    "    \n",
    "\n",
    "for nombre in range(len(nombres_aleatorios)): \n",
    "    apilar(pila_nombres, sacar(nombres_aleatorios)) # guardamos cada nombre en la pila, mientras vaciamos la lista de nombres_aleatorios\n",
    "    \n",
    "    inicial = pila_nombres[0][0] \n",
    "    \n",
    "    if inicial not in letras:\n",
    "         letras[inicial] = []\n",
    "    \n",
    "    apilar(letras[inicial], sacar(pila_nombres))\n",
    "    \n",
    "for i,lista in letras.items():\n",
    "    print(f\"Lista para inicial {i}: {lista}\") \n",
    "print()\n",
    "print(\"Pila:\", pila_nombres)\n",
    "print(\"Nombres aleatorios:\", nombres_aleatorios)\n"
   ]
  },
  {
   "cell_type": "markdown",
   "id": "490f04a8",
   "metadata": {},
   "source": [
    "# Actividad: Replique el código, mostrado en la presentación 36 correspondiente al capítulo 4.\n",
    "\n",
    "En este codódigo se muestra la creación de una clasa para crear una pila y hacer las actividades básicas correspondientes.\n",
    "\n",
    "- **__init__**: Creación de la pila.\n",
    "- **is_empty**: Verificación si la pila está vacia.\n",
    "- **push**: agregar elemento a la pila\n",
    "- **pop**:si la pila no está vacia eliminar el último de elemento.\n",
    "\n",
    "Use la notación mostrada en la presentacion 40, realice varias operaciones y comente brevemente los resultados (máximo 3 lineas), antes de pasar a la siguiente actividad asegurese de entender completamente la notación utilizada."
   ]
  },
  {
   "cell_type": "code",
   "execution_count": 20,
   "id": "950d71ca",
   "metadata": {},
   "outputs": [
    {
     "name": "stdout",
     "output_type": "stream",
     "text": [
      "Valores internos de la pila: ['Test', 'Test 2']\n",
      "Valores internos de la pila: ['Test']\n",
      "None\n"
     ]
    }
   ],
   "source": [
    "# Escriba su código en está celda y todos los comentarios necesarios en la misma celda.\n",
    "class Stack():\n",
    "    def __init__(self):\n",
    "        self.__stack = []\n",
    "        \n",
    "    def __str__(self):\n",
    "        return f'Valores internos de la pila: {self.__stack}'\n",
    "        \n",
    "    def is_empty(self):\n",
    "        return True if len(self.__stack) == 0 else False\n",
    "\n",
    "    def push(self, item):\n",
    "        self.__stack.append(item)\n",
    "\n",
    "    def pop(self):\n",
    "        return None if self.is_empty() else self.__stack.pop()\n",
    "\n",
    "\n",
    "pila = Stack()\n",
    "pila.push('Test') # añade elementos a la pila, Test y Test 2, respectivamente\n",
    "pila.push(\"Test 2\") \n",
    "print(pila)\n",
    "\n",
    "pila.pop() # elimina el ultimo valor agregado, en este caso Test 2\n",
    "print(pila)\n",
    "\n",
    "pila.pop()\n",
    "print(pila.pop()) # muestra None porque no hay elementos en la pila"
   ]
  },
  {
   "cell_type": "markdown",
   "id": "5f2fe9e8",
   "metadata": {},
   "source": [
    "# Actividad: Búsqueda secuencial.\n",
    "\n",
    "Se tiene una lista de 10 ciudades organizadas en función de la densidad de población, escriba una función para retornar la posición ocupada.\n"
   ]
  },
  {
   "cell_type": "code",
   "execution_count": 31,
   "id": "dec8954f",
   "metadata": {},
   "outputs": [
    {
     "name": "stdout",
     "output_type": "stream",
     "text": [
      "5\n"
     ]
    }
   ],
   "source": [
    "ciudades = [\n",
    "    \"Daca, Bangladés\",\n",
    "    \"Karachi, Pakistán\",\n",
    "    \"Nueva Delhi, India\",\n",
    "    \"Manila, Filipinas\",\n",
    "    \"Seúl, Corea del Sur\",\n",
    "    \"Cantón, China\",\n",
    "    \"Taipéi, Taiwán\",\n",
    "    \"Chenaral, Chile\",\n",
    "    \"Shenzhen, China\",\n",
    "    \"Bombay, India\"\n",
    "]\n",
    "\n",
    "def obtener_posicion(ciudades, ciudad):\n",
    "    # Espaciós para desarrollar el código\n",
    "    for i in range(len(ciudades)):\n",
    "        if ciudades[i] == ciudad:\n",
    "            posicion = i + 1\n",
    "    \n",
    "    return posicion\n",
    "\n",
    "posicion_ocupada = obtener_posicion(ciudades,\"Seúl, Corea del Sur\")\n",
    "print(posicion_ocupada)"
   ]
  },
  {
   "cell_type": "markdown",
   "id": "9fffd532",
   "metadata": {},
   "source": [
    "# Actividad: Búsqueda binaria.\n",
    "\n",
    "- Escriba al menos una ventaja de la busqueda binaria.\n",
    "- Replique el código mostrado en la presentación 192.\n",
    "- Explique brevemente el funcionamiento del código, maximo 3 lineas.\n",
    "- Ingrese un piso de ruptura del huevo y calcule cuantas veces se realiza la revisión para encontrar el piso seguro.(Se puede agrear algún contador dentro del código para verificar)\n"
   ]
  },
  {
   "cell_type": "code",
   "execution_count": 45,
   "id": "bdc866e2",
   "metadata": {},
   "outputs": [
    {
     "name": "stdin",
     "output_type": "stream",
     "text": [
      "Ingrese la cantidad de pisos:  2\n",
      "Ingrese el piso donde se rompera el huevo:  1\n"
     ]
    },
    {
     "name": "stdout",
     "output_type": "stream",
     "text": [
      "El huevo estara asalvo hasta el piso 0.\n",
      "Total 1 veces fue buscado.\n"
     ]
    }
   ],
   "source": [
    "# Espacio para replicar el código.\n",
    "\n",
    "# Ventaja de la busqueda binaria: reduce significativamente el número de comparaciones necesarias para encontrar el elemento deseado\n",
    "# Teniendo menor complejidad que otros tipo de busquedas\n",
    "\n",
    "\n",
    "def do_experiment(floor, breaking):\n",
    "    return floor >= breaking\n",
    "\n",
    "def find_highest_safe_floor2(height, breaking):\n",
    "    global contador\n",
    "    low, high = 1, height\n",
    "    \n",
    "    while low < high:\n",
    "        contador += 1\n",
    "        mid = (low + high) // 2\n",
    "        if do_experiment(mid, breaking):\n",
    "            high = mid\n",
    "        else:\n",
    "            low = mid + 1\n",
    "    return low - 1\n",
    "# Espacio para explicar funcionamiento.\n",
    "\n",
    "#Usando la busqueda binaria, lo que hacemos es dividir siempre el codigo a la mitad para buscar el numero que estamos buscando y se repite este proceso\n",
    "#mientras low < high, mid va a valer (low + high) // 2, cuando consigamos el numero nos lo va a retornar\n",
    "\n",
    "# Cálculo y verificación del número de veces que se realiza la verificación.\n",
    "altura = int(input(\"Ingrese la cantidad de pisos: \"))\n",
    "rotura = int(input(\"Ingrese el piso donde se rompera el huevo: \"))\n",
    "low, high = 1, altura\n",
    "contador = 0\n",
    "\n",
    "floor = find_highest_safe_floor2(altura, rotura)\n",
    "print(f\"El huevo estara asalvo hasta el piso {floor}.\")\n",
    "print(f\"Total {contador} veces fue buscado.\")\n"
   ]
  },
  {
   "cell_type": "markdown",
   "id": "eb266a1e",
   "metadata": {},
   "source": [
    "# Actividad: Definir una tabla Hash tipo diccionario.\n",
    "\n",
    "En la siguiente celda se muestrar como crear un diccionario, como agregar elementos, como eliminar elementos,\n",
    "como verificar si la key existe en el diccionario, basados en este código agregue otros elementos, comente los resultados, si tienes alguna duda también la puedes escribir. (Use máximo 3 líneas en la explicación)\n"
   ]
  },
  {
   "cell_type": "code",
   "execution_count": 33,
   "id": "f48163a5",
   "metadata": {},
   "outputs": [
    {
     "name": "stdout",
     "output_type": "stream",
     "text": [
      "Nombre: Juan\n",
      "Edad: 30\n",
      "Ciudad: Nueva York\n",
      "La clave 'ciudad' no está en el diccionario.\n",
      "Gmail: Juan@correo.com\n",
      "Nacionalidad: Venezolano\n",
      "La clave 'gmail' está en el diccionario.\n",
      "La clave 'gmail' no está en el diccionario.\n"
     ]
    }
   ],
   "source": [
    "# Crear un diccionario vacío\n",
    "mi_diccionario = {}\n",
    "\n",
    "# Agregar elementos al diccionario\n",
    "mi_diccionario[\"nombre\"] = \"Juan\"\n",
    "mi_diccionario[\"edad\"] = 30\n",
    "mi_diccionario[\"ciudad\"] = \"Nueva York\"\n",
    "\n",
    "# Acceder a los valores por clave\n",
    "print(\"Nombre:\", mi_diccionario[\"nombre\"])\n",
    "print(\"Edad:\", mi_diccionario[\"edad\"])\n",
    "print(\"Ciudad:\", mi_diccionario[\"ciudad\"])\n",
    "\n",
    "# Modificar un valor existente\n",
    "mi_diccionario[\"edad\"] = 31\n",
    "\n",
    "# Eliminar un elemento del diccionario\n",
    "del mi_diccionario[\"ciudad\"]\n",
    "\n",
    "# Verificar si una clave existe en el diccionario\n",
    "if \"ciudad\" in mi_diccionario:\n",
    "    print(\"La clave 'ciudad' está en el diccionario.\")\n",
    "else:\n",
    "    print(\"La clave 'ciudad' no está en el diccionario.\")\n",
    "    \n",
    "#///////////////////////////////////////////////////////////\n",
    "\n",
    "#Nuevo elemento\n",
    "mi_diccionario[\"gmail\"] = \"Juan@correo.com\"\n",
    "mi_diccionario[\"nacionalidad\"] = \"Venezolano\"\n",
    "print(\"Gmail:\", mi_diccionario[\"gmail\"])\n",
    "print(\"Nacionalidad:\", mi_diccionario[\"nacionalidad\"])\n",
    "\n",
    "#Verificamos si existe el valor\n",
    "if \"gmail\" in mi_diccionario:\n",
    "    print(\"La clave 'gmail' está en el diccionario.\")\n",
    "else:\n",
    "    print(\"La clave 'gmail' no está en el diccionario.\")\n",
    "\n",
    "#Eliminamos el valor\n",
    "\n",
    "del mi_diccionario[\"gmail\"]\n",
    "\n",
    "#Verificamos si existe el valor\n",
    "if \"gmail\" in mi_diccionario:\n",
    "    print(\"La clave 'gmail' está en el diccionario.\")\n",
    "else:\n",
    "    print(\"La clave 'gmail' no está en el diccionario.\")\n"
   ]
  }
 ],
 "metadata": {
  "kernelspec": {
   "display_name": "Python 3 (ipykernel)",
   "language": "python",
   "name": "python3"
  },
  "language_info": {
   "codemirror_mode": {
    "name": "ipython",
    "version": 3
   },
   "file_extension": ".py",
   "mimetype": "text/x-python",
   "name": "python",
   "nbconvert_exporter": "python",
   "pygments_lexer": "ipython3",
   "version": "3.12.4"
  }
 },
 "nbformat": 4,
 "nbformat_minor": 5
}
