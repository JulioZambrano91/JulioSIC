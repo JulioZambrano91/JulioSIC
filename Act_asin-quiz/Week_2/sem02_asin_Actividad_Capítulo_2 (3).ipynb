{
 "cells": [
  {
   "cell_type": "markdown",
   "id": "5ad8356f",
   "metadata": {},
   "source": [
    "# Actividades Capítulo 2.\n",
    "\n",
    "\n",
    "# Concepto básico de programación e inicio en Python\n",
    "\n",
    "## Resumen de actividades\n",
    "\n",
    "- **Unidad 10.** Tipos de datos lista y tupla Tipos de datos lista y tupla\n",
    "- **Unidad 11.** Tipos de datos de diccionario Tipos de datos de diccionario\n",
    "- **Unidad 12.** Tipos de datos de secuencia\n",
    "- **Unidad 13.** Listas 2D\n",
    "- **Unidad 14.** Método del diccionario-1\n",
    "- **Unidad 15.** Método del diccionario-2\n",
    "- **Unidad 16.** Establecer tipos de datos\n"
   ]
  },
  {
   "cell_type": "markdown",
   "id": "19c61f0a-26e1-4c41-ba03-73e937474dc6",
   "metadata": {},
   "source": [
    "Nombre: Julio Zambrano Eduardo Figueredo\n",
    "C.I: 30720044\n",
    "CORREO: JulioZambranocl@gmail.com\n",
    "TLF: 04241880405"
   ]
  },
  {
   "cell_type": "markdown",
   "id": "8c5aa9c8",
   "metadata": {},
   "source": [
    "# Actividad: Creación de una Base de Datos en Python\n",
    "\n",
    "## Descripción\n",
    "\n",
    "A continuación debes crear una base de datos simple utilizando listas en Python. Una base de datos es una colección de datos organizados que se utilizan para almacenar y recuperar información. En este caso, simularemos una base de datos de estudiantes con información básica.\n",
    "\n",
    "## Instrucciones\n",
    "\n",
    "1. Crea un programa en Python que permita a los usuarios realizar las siguientes acciones:\n",
    "\n",
    "   a. Agregar un nuevo estudiante a la base de datos. Cada estudiante debe tener al menos un nombre, un número de identificación y una edad. Puedes utilizar una lista para almacenar estos datos.\n",
    "\n",
    "   b. Mostrar la lista de estudiantes en la base de datos.\n",
    "\n",
    "   c. Buscar un estudiante por su número de identificación y mostrar su información.\n",
    "\n",
    "   d. Actualizar la información de un estudiante existente en la base de datos.\n",
    "\n",
    "   e. Eliminar un estudiante de la base de datos.\n",
    "\n",
    "2. Utiliza listas de Python para almacenar la información de los estudiantes. Por ejemplo, puedes crear una lista de diccionarios, donde cada diccionario representa un estudiante con sus datos.\n",
    "\n",
    "3. Ofrece un menú interactivo que permita a los usuarios elegir las acciones que desean realizar en la base de datos.\n",
    "\n",
    "4. Implementa la lógica necesaria para cada acción, como agregar, buscar, actualizar o eliminar estudiantes.\n",
    "\n",
    "## Ejemplo de Base de Datos\n",
    "\n",
    "A continuación, se muestra un ejemplo de cómo podría verse una base de datos de estudiantes utilizando listas y diccionarios:\n",
    "\n",
    "```python\n",
    "base_de_datos = [\n",
    "    {\"nombre\": \"Juan\", \"id\": 1, \"edad\": 20},\n",
    "    {\"nombre\": \"María\", \"id\": 2, \"edad\": 22},\n",
    "    {\"nombre\": \"Carlos\", \"id\": 3, \"edad\": 21}\n",
    "]\n",
    "\n",
    "Desarrolle el código en la siguiente lista."
   ]
  },
  {
   "cell_type": "code",
   "execution_count": 171,
   "id": "90cd2e33",
   "metadata": {},
   "outputs": [
    {
     "name": "stdout",
     "output_type": "stream",
     "text": [
      "BASE DE DATOS\n",
      "    \n",
      "    1. Agregar un nuevo usuario\n",
      "    2. Buscar datos\n",
      "    3. Actualizar los datos de un usuario\n",
      "    4. Eliminar los datos de un usuario\n",
      "    5. Cerrar el programa\n",
      "\n"
     ]
    },
    {
     "name": "stdin",
     "output_type": "stream",
     "text": [
      "Selecciona una opcion:  3\n"
     ]
    },
    {
     "name": "stdout",
     "output_type": "stream",
     "text": [
      "\n"
     ]
    },
    {
     "name": "stdin",
     "output_type": "stream",
     "text": [
      "Cual es el ID del usuario?  2\n"
     ]
    },
    {
     "name": "stdout",
     "output_type": "stream",
     "text": [
      "Que datos le gustaria actualizar?\n",
      "    1. Nombre\n",
      "    2. Edad\n",
      "    3. Cancelar\n"
     ]
    },
    {
     "name": "stdin",
     "output_type": "stream",
     "text": [
      "Seleccione la opcion:  1\n"
     ]
    },
    {
     "name": "stdout",
     "output_type": "stream",
     "text": [
      "\n"
     ]
    },
    {
     "name": "stdin",
     "output_type": "stream",
     "text": [
      "Seleccione un nuevo nombre:  jose\n"
     ]
    },
    {
     "name": "stdout",
     "output_type": "stream",
     "text": [
      "\n",
      "BASE DE DATOS\n",
      "    \n",
      "    1. Agregar un nuevo usuario\n",
      "    2. Buscar datos\n",
      "    3. Actualizar los datos de un usuario\n",
      "    4. Eliminar los datos de un usuario\n",
      "    5. Cerrar el programa\n",
      "\n"
     ]
    },
    {
     "name": "stdin",
     "output_type": "stream",
     "text": [
      "Selecciona una opcion:  2\n"
     ]
    },
    {
     "name": "stdout",
     "output_type": "stream",
     "text": [
      "\n"
     ]
    },
    {
     "name": "stdin",
     "output_type": "stream",
     "text": [
      "Cual es el ID del usuario?  2\n"
     ]
    },
    {
     "name": "stdout",
     "output_type": "stream",
     "text": [
      "\n",
      "[!!] Cargando los datos del estudiante\n",
      "{'nombre': 'jose', 'id': 2, 'edad': 22}\n",
      "\n",
      "BASE DE DATOS\n",
      "    \n",
      "    1. Agregar un nuevo usuario\n",
      "    2. Buscar datos\n",
      "    3. Actualizar los datos de un usuario\n",
      "    4. Eliminar los datos de un usuario\n",
      "    5. Cerrar el programa\n",
      "\n"
     ]
    },
    {
     "name": "stdin",
     "output_type": "stream",
     "text": [
      "Selecciona una opcion:  6\n"
     ]
    },
    {
     "name": "stdout",
     "output_type": "stream",
     "text": [
      "\n",
      "Opcion no valida, seleccione otra\n",
      "BASE DE DATOS\n",
      "    \n",
      "    1. Agregar un nuevo usuario\n",
      "    2. Buscar datos\n",
      "    3. Actualizar los datos de un usuario\n",
      "    4. Eliminar los datos de un usuario\n",
      "    5. Cerrar el programa\n",
      "\n"
     ]
    },
    {
     "name": "stdin",
     "output_type": "stream",
     "text": [
      "Selecciona una opcion:  4\n"
     ]
    },
    {
     "name": "stdout",
     "output_type": "stream",
     "text": [
      "\n"
     ]
    },
    {
     "name": "stdin",
     "output_type": "stream",
     "text": [
      "Cual es el ID del usuario?  2\n"
     ]
    },
    {
     "name": "stdout",
     "output_type": "stream",
     "text": [
      "La nueva base de dato quedo asi:\n",
      "[{'nombre': 'Juan', 'id': 1, 'edad': 20}, {'nombre': 'Carlos', 'id': 3, 'edad': 21}]\n",
      "\n",
      "BASE DE DATOS\n",
      "    \n",
      "    1. Agregar un nuevo usuario\n",
      "    2. Buscar datos\n",
      "    3. Actualizar los datos de un usuario\n",
      "    4. Eliminar los datos de un usuario\n",
      "    5. Cerrar el programa\n",
      "\n"
     ]
    },
    {
     "name": "stdin",
     "output_type": "stream",
     "text": [
      "Selecciona una opcion:  1\n"
     ]
    },
    {
     "name": "stdout",
     "output_type": "stream",
     "text": [
      "\n"
     ]
    },
    {
     "name": "stdin",
     "output_type": "stream",
     "text": [
      "Digite el nombre del usuario:  2\n",
      "Digite la edad del usuario:  2\n"
     ]
    },
    {
     "name": "stdout",
     "output_type": "stream",
     "text": [
      "[!!] Dato añadido correctamente\n",
      "\n",
      "BASE DE DATOS\n",
      "    \n",
      "    1. Agregar un nuevo usuario\n",
      "    2. Buscar datos\n",
      "    3. Actualizar los datos de un usuario\n",
      "    4. Eliminar los datos de un usuario\n",
      "    5. Cerrar el programa\n",
      "\n"
     ]
    },
    {
     "name": "stdin",
     "output_type": "stream",
     "text": [
      "Selecciona una opcion:  2\n"
     ]
    },
    {
     "name": "stdout",
     "output_type": "stream",
     "text": [
      "\n"
     ]
    },
    {
     "name": "stdin",
     "output_type": "stream",
     "text": [
      "Cual es el ID del usuario?  4\n"
     ]
    },
    {
     "name": "stdout",
     "output_type": "stream",
     "text": [
      "\n",
      "ERROR: ID no valida\n",
      "\n",
      "BASE DE DATOS\n",
      "    \n",
      "    1. Agregar un nuevo usuario\n",
      "    2. Buscar datos\n",
      "    3. Actualizar los datos de un usuario\n",
      "    4. Eliminar los datos de un usuario\n",
      "    5. Cerrar el programa\n",
      "\n"
     ]
    },
    {
     "name": "stdin",
     "output_type": "stream",
     "text": [
      "Selecciona una opcion:  1\n"
     ]
    },
    {
     "name": "stdout",
     "output_type": "stream",
     "text": [
      "\n"
     ]
    },
    {
     "name": "stdin",
     "output_type": "stream",
     "text": [
      "Digite el nombre del usuario:  23213\n",
      "Digite la edad del usuario:  2132\n"
     ]
    },
    {
     "name": "stdout",
     "output_type": "stream",
     "text": [
      "[!!] Dato añadido correctamente\n",
      "\n",
      "BASE DE DATOS\n",
      "    \n",
      "    1. Agregar un nuevo usuario\n",
      "    2. Buscar datos\n",
      "    3. Actualizar los datos de un usuario\n",
      "    4. Eliminar los datos de un usuario\n",
      "    5. Cerrar el programa\n",
      "\n"
     ]
    },
    {
     "name": "stdin",
     "output_type": "stream",
     "text": [
      "Selecciona una opcion:  2\n"
     ]
    },
    {
     "name": "stdout",
     "output_type": "stream",
     "text": [
      "\n"
     ]
    },
    {
     "name": "stdin",
     "output_type": "stream",
     "text": [
      "Cual es el ID del usuario?  6\n"
     ]
    },
    {
     "name": "stdout",
     "output_type": "stream",
     "text": [
      "\n",
      "ERROR: ID no valida\n",
      "\n",
      "BASE DE DATOS\n",
      "    \n",
      "    1. Agregar un nuevo usuario\n",
      "    2. Buscar datos\n",
      "    3. Actualizar los datos de un usuario\n",
      "    4. Eliminar los datos de un usuario\n",
      "    5. Cerrar el programa\n",
      "\n"
     ]
    },
    {
     "name": "stdin",
     "output_type": "stream",
     "text": [
      "Selecciona una opcion:  2\n"
     ]
    },
    {
     "name": "stdout",
     "output_type": "stream",
     "text": [
      "\n"
     ]
    },
    {
     "name": "stdin",
     "output_type": "stream",
     "text": [
      "Cual es el ID del usuario?  5\n"
     ]
    },
    {
     "name": "stdout",
     "output_type": "stream",
     "text": [
      "\n",
      "ERROR: ID no valida\n",
      "\n",
      "BASE DE DATOS\n",
      "    \n",
      "    1. Agregar un nuevo usuario\n",
      "    2. Buscar datos\n",
      "    3. Actualizar los datos de un usuario\n",
      "    4. Eliminar los datos de un usuario\n",
      "    5. Cerrar el programa\n",
      "\n"
     ]
    },
    {
     "name": "stdin",
     "output_type": "stream",
     "text": [
      "Selecciona una opcion:  2\n"
     ]
    },
    {
     "name": "stdout",
     "output_type": "stream",
     "text": [
      "\n"
     ]
    },
    {
     "name": "stdin",
     "output_type": "stream",
     "text": [
      "Cual es el ID del usuario?  4\n"
     ]
    },
    {
     "name": "stdout",
     "output_type": "stream",
     "text": [
      "\n",
      "[!!] Cargando los datos del estudiante\n",
      "{'nombre': '23213', 'id': 5, 'edad': 2132}\n",
      "\n",
      "BASE DE DATOS\n",
      "    \n",
      "    1. Agregar un nuevo usuario\n",
      "    2. Buscar datos\n",
      "    3. Actualizar los datos de un usuario\n",
      "    4. Eliminar los datos de un usuario\n",
      "    5. Cerrar el programa\n",
      "\n"
     ]
    },
    {
     "name": "stdin",
     "output_type": "stream",
     "text": [
      "Selecciona una opcion:  5\n"
     ]
    },
    {
     "name": "stdout",
     "output_type": "stream",
     "text": [
      "\n",
      "Finalizando ejecucion\n"
     ]
    }
   ],
   "source": [
    "#Recuerde agregar comentarios donde se describa el funcionamiento de las diferentes secciones.\n",
    "base_de_datos = [ # base de datos inicial\n",
    "    {\"nombre\": \"Juan\", \"id\": 1, \"edad\": 20},\n",
    "    {\"nombre\": \"María\", \"id\": 2, \"edad\": 22},\n",
    "    {\"nombre\": \"Carlos\", \"id\": 3, \"edad\": 21}\n",
    "]\n",
    "\n",
    "def crearUsuario(base_de_datos):\n",
    "    nombre = str(input('Digite el nombre del usuario: ')) # pediamos nombre y edad al usuario\n",
    "    edad = int(input('Digite la edad del usuario: '))\n",
    "\n",
    "    id = base_de_datos[-1]['id'] # buscamos con el -1 el ultimo contacto y con el 'id' filtramos el dicho id\n",
    "    id += 1 # le sumamos 1 al id para luego añadirlo a la lista\n",
    "    \n",
    "    nuevo_usuario = { # guardamos dicha informacion en una nueva variable\n",
    "        \"nombre\":nombre,\n",
    "        \"id\":id, \n",
    "        \"edad\":edad\n",
    "    }\n",
    "\n",
    "    return base_de_datos.append(nuevo_usuario) # con el metodo append añadimos la informacion al dict original\n",
    "\n",
    "\n",
    "def buscarEstudiante(id):\n",
    "    id -= 1 # restamos 1 al id para que coincida con el dato solicitado al llamarlo por pantalla\n",
    "\n",
    "    #si eliminamos un ID que ya existia y ejecutamos el programa para buscar el ID que eliminamos\n",
    "    # este nos devolvia el id que le seguia \n",
    "    # por ejemplo:\n",
    "    #\n",
    "    # eliminamos {\"nombre\": \"Juan\", \"id\": 1, \"edad\": 20}\n",
    "    # y entonces a la hora de buscar el id 1, no tiraba error si no que mostraba:\n",
    "    # {\"nombre\": \"María\", \"id\": 2, \"edad\": 22},\n",
    "    # con la siguiente condicion se arregla, pero daña el programa en otros aspectos.\n",
    "    #\n",
    "    # if base_de_datos[id]['id'] == id + 2:\n",
    "    #     return print(\"ERROR: ID no valido\")\n",
    "\n",
    "    \n",
    "    if id < 0 or id >= len(base_de_datos): # si el dato es menor a 0 o mayor igual que la longitud de la base de dato tira error\n",
    "        print() # salto de linea\n",
    "        print(\"ERROR: ID no valida\")\n",
    "   \n",
    "    else:\n",
    "        print() # salto de linea\n",
    "        print(\"[!!] Cargando los datos del estudiante\")\n",
    "        return print(base_de_datos[id])\n",
    "\n",
    "def actualizarInformacion(id):\n",
    "    id -= 1 # restamos 1 al id para que coincida con el dato solicitado al llamarlo por pantalla\n",
    "\n",
    "    print(\"\"\"Que datos le gustaria actualizar?\n",
    "    1. Nombre\n",
    "    2. Edad\n",
    "    3. Cancelar\"\"\")\n",
    "    opc = int(input(\"Seleccione la opcion: \"))\n",
    "    print() # salto de linea\n",
    "\n",
    "    # Si la opcion es 1 o 2, pedimos el nuevo dato por pantalla y se lo remplazamos a la base de datos que tenemos\n",
    "    if opc == 1: \n",
    "        nombre = str(input('Seleccione un nuevo nombre: ')) \n",
    "        base_de_datos[id]['nombre'] = nombre\n",
    "        return base_de_datos # se retorna la base de dato con la informacion nueva\n",
    "        \n",
    "    elif opc == 2:\n",
    "        edad = int(input('Seleccione un nuevo nombre: ')) \n",
    "        base_de_datos[id]['edad'] = edad\n",
    "        return base_de_datos\n",
    "        \n",
    "    elif opc == 3: # si es la opcion 3, se retorna la base de datos sin cambios\n",
    "        return base_de_datos\n",
    "        \n",
    "    else:\n",
    "        print(\"Opcion no valida\")\n",
    "        \n",
    "def eliminarEstudiante(id):\n",
    "    id -= 1\n",
    "    del base_de_datos[id]\n",
    "    print(\"La nueva base de dato quedo asi:\")\n",
    "    print(base_de_datos)\n",
    "\n",
    "def menu():\n",
    "    print(\"\"\"BASE DE DATOS\n",
    "    \n",
    "    1. Agregar un nuevo usuario\n",
    "    2. Buscar datos\n",
    "    3. Actualizar los datos de un usuario\n",
    "    4. Eliminar los datos de un usuario\n",
    "    5. Cerrar el programa\"\"\")\n",
    "    print() #salto de linea\n",
    "    opc = int(input('Selecciona una opcion: '))\n",
    "    print() # salto de linea\n",
    "    \n",
    "    if opc == 1:\n",
    "        crearUsuario(base_de_datos) # llama a la funcion y crea el usuario\n",
    "        print(\"[!!] Dato añadido correctamente\") # cuando lo crea manda este mensaje\n",
    "        print() #salto de linea\n",
    "        menu() #llama de nuevo al menu para continuar con otras operaciones\n",
    "        \n",
    "    elif opc == 2:\n",
    "        id = int(input('Cual es el ID del usuario? '))\n",
    "        buscarEstudiante(id)\n",
    "        print() # salto de linea\n",
    "        menu()\n",
    "        \n",
    "    elif opc == 3:\n",
    "        id = int(input('Cual es el ID del usuario? '))\n",
    "        actualizarInformacion(id)\n",
    "        print() # salto de linea\n",
    "        menu()\n",
    "    elif opc == 4:\n",
    "        id = int(input('Cual es el ID del usuario? '))\n",
    "        eliminarEstudiante(id)\n",
    "        print() # salto de linea\n",
    "        menu()\n",
    "        \n",
    "    elif opc == 5:\n",
    "        print(\"Finalizando ejecucion\") # terminar la ejecucion del programa\n",
    "        \n",
    "    else:\n",
    "        print(\"Opcion no valida, seleccione otra\")\n",
    "        menu()\n",
    "menu()\n",
    "\n"
   ]
  },
  {
   "cell_type": "markdown",
   "id": "a11871f3",
   "metadata": {},
   "source": [
    "# Actividad: Rebanado de listas.\n",
    "\n",
    "Revisa la unidad 10,sección 5.3 aparece un resumen de los comandos para tomar secciones de una lista, aplica los comandos en la siguiente lista:\n",
    "\n",
    "\n",
    "list_notas = [15, 21, 24, 40, 13, 14, 18, 17, 14.5]\n",
    "\n"
   ]
  },
  {
   "cell_type": "code",
   "execution_count": 172,
   "id": "1e7a5371",
   "metadata": {},
   "outputs": [
    {
     "data": {
      "text/plain": [
       "[24, 13, 18, 14.5]"
      ]
     },
     "execution_count": 172,
     "metadata": {},
     "output_type": "execute_result"
    }
   ],
   "source": [
    "# Espacio para desarrollar las pruebas, si tienes alguna duda o comentario adicional\n",
    "# lo puedes dejar planteado acá.\n",
    "\n",
    "list_notas = [15, 21, 24, 40, 13, 14, 18, 17, 14.5]\n",
    "print(list_notas[::2])\n",
    "\n",
    "print(list_notas[2::2])\n",
    "\n",
    "print(list_notas[2:5])\n",
    "\n",
    "print(list_notas[:7])\n",
    "\n",
    "print(list_notas[:])\n",
    "\n",
    "print(list_notas[0:6:2])\n",
    "\n",
    "print(list_notas[-3:])\n",
    "\n",
    "print(list_notas[::-2])\n",
    "\n",
    "print(list_notas[0::-2])\n",
    "\n",
    "\n",
    "\n",
    "\n",
    "\n",
    "\n",
    "\n",
    "\n"
   ]
  },
  {
   "cell_type": "markdown",
   "id": "a207d974",
   "metadata": {},
   "source": [
    "\n",
    "# Actividad: Diferentes métodos usados en listas.\n",
    "\n",
    "De la unidad 10, sección 6.3 revise los métodos disponibles para usar sobre las listas.\n",
    "\n",
    "Aplique los métodos disponibles sobre la lista mostrada en la siguiente celda. \n",
    "\n",
    "Nota: usando el método **sort()** ordene de mayor a menor y viceversa (Si es necesario revise documentación adicional relacionada sobre este método)\n"
   ]
  },
  {
   "cell_type": "code",
   "execution_count": 184,
   "id": "b4ac1d5a",
   "metadata": {},
   "outputs": [
    {
     "name": "stdout",
     "output_type": "stream",
     "text": [
      "[13, 13, 14, 14.5, 15, 17, 18, 21, 24, 40]\n",
      "4\n",
      "[13, 13, 14, 14.5, 15, 17, 18, 21, 24, 40, 12]\n",
      "[13, 13, 20, 14, 14.5, 15, 17, 18, 21, 24, 40, 12]\n",
      "[12, 40, 24, 21, 18, 17, 15, 14.5, 14, 20, 13, 13]\n",
      "[12, 40, 24, 21, 18, 17, 15, 14.5, 14, 20, 13, 13, 2, 3, 7, 13.2]\n"
     ]
    }
   ],
   "source": [
    "# Aplique los métodos disponibles y agregue comentarios breves sobre su funcinamiento.\n",
    "\n",
    "list_notas = [15, 21, 24, 40, 13, 14, 18, 13, 17, 14.5]\n",
    "\n",
    "\n",
    "# Espacio para desarrollo del código y comentarios.\n",
    "\n",
    "list_notas.sort()\n",
    "print(list_notas)\n",
    "\n",
    "print(list_notas.index(15)) # el 15 se encuentra en la posicion 4\n",
    "\n",
    "list_notas.append(12) # añade el 12 a la lista\n",
    "print(list_notas)\n",
    "\n",
    "list_notas.insert(2, 20) # añadimos el 20 en la posicion 2\n",
    "print(list_notas)\n",
    "\n",
    "list_notas.reverse() # invierte la lista\n",
    "print(list_notas)\n",
    "\n",
    "list_notas2 = [2,3,7, 13.2]\n",
    "\n",
    "list_notas.extend(list_notas2) # añade la lista 2 , a la lista original\n",
    "print(list_notas)\n",
    "\n"
   ]
  },
  {
   "cell_type": "markdown",
   "id": "26a6bb9e",
   "metadata": {},
   "source": [
    "# Actividad: Crear diccionarios y guardarlos como archivo JSON.\n",
    "\n",
    "De la unidad 11 sección 4.6 revise el ejemplo mostrado.\n",
    "\n",
    "Genera un diccionario, sobre la información que deseas guardar como base de datos, desarrollo el código necesario para generar el archivo JSON, y también el código para cargar la información del archivo JSON.\n"
   ]
  },
  {
   "cell_type": "code",
   "execution_count": 188,
   "id": "6670eace",
   "metadata": {},
   "outputs": [],
   "source": [
    "# Espacio para desarrollar el código.\n",
    "import json\n",
    "\n",
    "base_de_datos = '{\"nombre\": \"Juan\", \"id\": 1, \"edad\": 20}'\n",
    "\n",
    "base_de_datos_json = json.loads(base_de_datos)\n",
    "\n",
    "with open (\"Database.json\", \"w\") as f:\n",
    "    json.dump(base_de_datos_json, f, indent=\"\\t\")\n",
    "\n",
    "with open(\"Database.json\", \"r\") as f:\n",
    "fichero_lectura = open(\"agenda.txt\", \"r\")\n",
    "agenda = fichero_lectura.read()\n",
    "\n",
    "\n",
    "\n",
    "\n",
    "\n",
    "\n",
    "\n",
    "\n",
    "\n",
    "\n",
    "\n"
   ]
  },
  {
   "cell_type": "markdown",
   "id": "fbfb4985",
   "metadata": {},
   "source": [
    "# Actividad: Creación y manejo de tuplas.\n",
    "\n",
    "## Instrucciones\n",
    "\n",
    "1. Escriba una diferencia entre las tuplas y las listas.\n",
    "2. Crear una tupla con varios elementos.\n",
    "3. Usar el operador in para verificar si la tuple contiene determinado elemento.\n"
   ]
  },
  {
   "cell_type": "code",
   "execution_count": 53,
   "id": "fc5b1a43",
   "metadata": {},
   "outputs": [
    {
     "data": {
      "text/plain": [
       "True"
      ]
     },
     "execution_count": 53,
     "metadata": {},
     "output_type": "execute_result"
    }
   ],
   "source": [
    "# Espacio para desarrollar el código siguiendo las instrucciones.\n",
    "\n",
    "# Diferencia entre tupla y lista: la tupla es inmutable, osea no se le puede cambiar los elementos, a la lista si.\n",
    "\n",
    "tup = (1, 2, 3, 4, 5)\n",
    "\n",
    "2 in tup\n",
    "\n",
    "\n",
    "\n",
    "\n",
    "\n",
    "\n"
   ]
  },
  {
   "cell_type": "markdown",
   "id": "98938d2d",
   "metadata": {},
   "source": [
    "# Actividad: Revisión y manejo de listas bidimensionales.\n",
    "\n",
    "## Instrucciones\n",
    "\n",
    "1. Describa brevemente que entiende por lista bidimensional.\n",
    "2. Crear una lista bidimensional.\n",
    "3. Generar un doble loop para acceder de la lista bidimensional\n",
    "4. Sumar todo los elementos de esta lista bidimensional."
   ]
  },
  {
   "cell_type": "code",
   "execution_count": 2,
   "id": "a35ef1b7",
   "metadata": {},
   "outputs": [
    {
     "name": "stdout",
     "output_type": "stream",
     "text": [
      "21\n"
     ]
    }
   ],
   "source": [
    "# Espacio para desarrollar el código, escriba comentarias breves para explicar su funcionamiento.\n",
    "\n",
    "# Una lista bidimensional es una lista en 2 dimensiones que tambien es conocida como una matrix o tambien listas anidadas.\n",
    "\n",
    "lista = [[1,2,3],[4,5,6]] \n",
    "suma = 0\n",
    "\n",
    "for i in lista: # loop\n",
    "    for j in i:\n",
    "        suma += j # suma los valores de j\n",
    "\n",
    "print(suma)\n",
    "\n",
    "\n",
    "\n",
    "\n",
    "\n",
    "\n"
   ]
  },
  {
   "cell_type": "markdown",
   "id": "4261fa65",
   "metadata": {},
   "source": [
    "# Actividad: Revision de los métodos usados en el manejo de diccionarios.\n",
    "\n",
    "## Instrucciones\n",
    "\n",
    "1. Crear un diccionario.\n",
    "2. Testear los siguientes métodos para el majeo de diccionarios get(), keys(), values(), items(), pop(), clear()\n",
    "3. Agregar un breve comentario sobre su funcionamiento."
   ]
  },
  {
   "cell_type": "code",
   "execution_count": 34,
   "id": "2f5887bb",
   "metadata": {},
   "outputs": [
    {
     "name": "stdout",
     "output_type": "stream",
     "text": [
      "get -->  {'nombre': 'Julio Zambrano', 'telefono': '0424-1880405', 'correo': 'juliozambranocl@gmail.com'} \n",
      "\n",
      "keys -->  dict_keys(['Julio', 'Angel', 'Genesis']) \n",
      "\n",
      "values -->  dict_values([{'nombre': 'Julio Zambrano', 'telefono': '0424-1880405', 'correo': 'juliozambranocl@gmail.com'}, {'nombre': 'Angel Villegas', 'telefono': '0414-9876543', 'correo': 'angel@correo.com'}, {'nombre': 'Genesis Escarlata', 'telefono': '0426-1234567', 'correo': 'genesis@correo.com'}]) \n",
      "\n",
      "items -->  dict_items([('Julio', {'nombre': 'Julio Zambrano', 'telefono': '0424-1880405', 'correo': 'juliozambranocl@gmail.com'}), ('Angel', {'nombre': 'Angel Villegas', 'telefono': '0414-9876543', 'correo': 'angel@correo.com'}), ('Genesis', {'nombre': 'Genesis Escarlata', 'telefono': '0426-1234567', 'correo': 'genesis@correo.com'})]) \n",
      "\n",
      "Pop -->  {'nombre': 'Angel Villegas', 'telefono': '0414-9876543', 'correo': 'angel@correo.com'} \n",
      "\n",
      "Diccionario Nuevo -->  {'Julio': {'nombre': 'Julio Zambrano', 'telefono': '0424-1880405', 'correo': 'juliozambranocl@gmail.com'}, 'Genesis': {'nombre': 'Genesis Escarlata', 'telefono': '0426-1234567', 'correo': 'genesis@correo.com'}} \n",
      "\n",
      "clear -->  None \n",
      "\n"
     ]
    }
   ],
   "source": [
    "# Espacio para desarrollar el código.\n",
    "\n",
    "contactos = {\n",
    "    \"Julio\":{\n",
    "        \"nombre\":\"Julio Zambrano\",\n",
    "        \"telefono\":\"0424-1880405\",\n",
    "        \"correo\":\"juliozambranocl@gmail.com\"\n",
    "    },\n",
    "\n",
    "    \"Angel\":{\n",
    "        \"nombre\":\"Angel Villegas\",\n",
    "        \"telefono\":\"0414-9876543\",\n",
    "        \"correo\":\"angel@correo.com\"\n",
    "    },\n",
    "\n",
    "    \"Genesis\":{\n",
    "        \"nombre\":\"Genesis Escarlata\",\n",
    "        \"telefono\":\"0426-1234567\",\n",
    "        \"correo\":\"genesis@correo.com\"\n",
    "    }\n",
    "}\n",
    "\n",
    "\n",
    "contactos.get(\"Julio\") # obtenermos la informacion solicitada mediante una key\n",
    "print(\"get --> \", contactos.get(\"Julio\"), \"\\n\")\n",
    "\n",
    "contactos.keys()\n",
    "print(\"keys --> \",contactos.keys(), \"\\n\") #obtiene todas las keys de un diccionario\n",
    "\n",
    "contactos.values()\n",
    "print(\"values --> \",contactos.values(), \"\\n\") #obtiene todo los valores de un diccionario , tanto como su key y valores\n",
    "\n",
    "contactos.items()\n",
    "print(\"items --> \",contactos.items(), \"\\n\") #engloba en una tupla cada elemento del diccionario\n",
    "\n",
    "print(\"Pop --> \",contactos.pop(\"Angel\"), \"\\n\") #elimina el dato proporcionado del diccionario\n",
    "print(\"Diccionario Nuevo --> \",contactos, \"\\n\")\n",
    "\n",
    "print(\"clear --> \",contactos.clear(), \"\\n\") #elimina todos los datos del diccionario\n",
    "\n"
   ]
  }
 ],
 "metadata": {
  "kernelspec": {
   "display_name": "Python 3 (ipykernel)",
   "language": "python",
   "name": "python3"
  },
  "language_info": {
   "codemirror_mode": {
    "name": "ipython",
    "version": 3
   },
   "file_extension": ".py",
   "mimetype": "text/x-python",
   "name": "python",
   "nbconvert_exporter": "python",
   "pygments_lexer": "ipython3",
   "version": "3.12.4"
  }
 },
 "nbformat": 4,
 "nbformat_minor": 5
}
