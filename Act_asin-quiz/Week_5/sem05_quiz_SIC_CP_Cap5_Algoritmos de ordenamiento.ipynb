{
 "cells": [
  {
   "cell_type": "markdown",
   "id": "5ad8356f",
   "metadata": {},
   "source": [
    "# Coding and Programming\n",
    "\n",
    "## Capítulo 5\n",
    "\n",
    "### Algoritmos de clasificación\n",
    "\n",
    "- **Unidad 27.** Ordenamiento de burbuja, (Bubble Sort) algoritmo de ordenamiento, selección e inserción\n",
    "- **Unidad 28.** Ordenar por selección, ordenamiento por inserción.\n",
    "- **Unidad 29.** Clasificación rápida\n"
   ]
  },
  {
   "cell_type": "markdown",
   "id": "803b87a4-fd81-4b12-a1ef-15cb2b6e04eb",
   "metadata": {},
   "source": [
    "##### Alumno: Julio Zambrano\n",
    "##### C.I: 30.720.044\n",
    "##### TLF: 0424-1880405\n",
    "##### Correo: JulioZambranocl@gmail.com"
   ]
  },
  {
   "cell_type": "markdown",
   "id": "2e42031a",
   "metadata": {},
   "source": [
    "___"
   ]
  },
  {
   "cell_type": "markdown",
   "id": "8c5aa9c8",
   "metadata": {},
   "source": [
    "## Q 27-01\n",
    "\n",
    "¿Cuántas comparaciones se ejecutaron en el siguiente proceso de ordenamiento de burbuja?\n",
    "```\n",
    "def bubbleSort(S):\n",
    "    n = len(S)\n",
    "    for i in range(n):\n",
    "        print(S)\n",
    "        for j in range(n-1):\n",
    "            if S[j] > S[j+1]:\n",
    "               S[j] , S[j+1] = S[j+1] , S[j]\n",
    "\n",
    "S = [50, 30, 40, 10, 20]\n",
    "bubbleSort(S)\n",
    "print(S)\n",
    "```\n",
    "#### Output\n",
    "```\n",
    "[50, 30, 40, 10, 20]\n",
    "[30, 40, 10, 20, 50]\n",
    "[30, 10, 20, 40, 50]\n",
    "[10, 20, 30, 40, 50]\n",
    "[10, 20, 30, 40, 50]\n",
    "[10, 20, 30, 40, 50]\n",
    "```"
   ]
  },
  {
   "cell_type": "markdown",
   "id": "899e9b9b-3ff2-4b7b-930e-b16272add381",
   "metadata": {},
   "source": [
    "Se ejecuta un total de 20 veces, debido a que tambien cuentan los elementos que ya estan ordenados"
   ]
  },
  {
   "cell_type": "markdown",
   "id": "07be4f9d",
   "metadata": {},
   "source": [
    "___"
   ]
  },
  {
   "cell_type": "markdown",
   "id": "a11871f3",
   "metadata": {},
   "source": [
    "## Q 27-02\n",
    "\n",
    "¿Cuántas comparaciones se ejecutaron en el siguiente proceso de ordenamiento de inserción?\n",
    "```\n",
    "def insertionSort2(S):\n",
    "    n = len(S)\n",
    "    for i in range(1,n):\n",
    "        print(S)\n",
    "        x = S[i]\n",
    "        j = i - 1\n",
    "        while j >= 0 and S[j] > x:\n",
    "            S[j+1] = S[j]\n",
    "            j -= 1\n",
    "        S[j + 1] = x\n",
    "\n",
    "S = [50, 30, 40, 10, 20]\n",
    "insertionSort2(S)\n",
    "print(S)\n",
    "```\n",
    "#### Output\n",
    "```\n",
    "[50, 30, 40, 10, 20]\n",
    "[30, 40, 10, 20, 50]\n",
    "[30, 10, 20, 40, 50]\n",
    "[10, 20, 30, 40, 50]\n",
    "[10, 20, 30, 40, 50]\n",
    "[10, 20, 30, 40, 50]\n",
    "```"
   ]
  },
  {
   "cell_type": "markdown",
   "id": "eae71b80-eb39-4203-b843-ba9b3c8eb257",
   "metadata": {},
   "source": [
    "Se compara un total de 10 veces en el programa"
   ]
  },
  {
   "cell_type": "markdown",
   "id": "05c7586b",
   "metadata": {},
   "source": [
    "___"
   ]
  },
  {
   "cell_type": "markdown",
   "id": "a207d974",
   "metadata": {},
   "source": [
    "## Q 28-01\n",
    "\n",
    "¿Cuántas veces se ejecuta la función `merge2()` en el siguiente proceso de ordenamiento por fusión?\n",
    "```\n",
    "S = [6,2,11,7,5,4,8,16,10,3]\n",
    "mergeSort2(S, 0, len(S)-1)\n",
    "print(S)\n",
    "```"
   ]
  },
  {
   "cell_type": "markdown",
   "id": "f082d96f-60a5-4365-8669-366a87d22f49",
   "metadata": {},
   "source": [
    "Se ejecuta un total de 9 veces   "
   ]
  },
  {
   "cell_type": "markdown",
   "id": "f0d1a419",
   "metadata": {},
   "source": [
    "___"
   ]
  },
  {
   "cell_type": "markdown",
   "id": "26a6bb9e",
   "metadata": {},
   "source": [
    "## Q 29-01\n",
    "\n",
    "Dada la lista a continuación, escriba la salida después de ejecutar la función `partition1()`\n",
    "```\n",
    "S = [15,10,12,20,25,13,22]\n",
    "partition1(S, 0, len(S)-1)\n",
    "print(S)\n",
    "```\n",
    "#### Output\n",
    "```\n",
    "[15,10,12,20,25,13,22] 0 6 pivot = 15\n",
    "...\n",
    "```\n"
   ]
  },
  {
   "cell_type": "code",
   "execution_count": 104,
   "id": "ce0cd006-ce37-4c23-87c6-c3e53b702fcb",
   "metadata": {},
   "outputs": [
    {
     "name": "stdout",
     "output_type": "stream",
     "text": [
      "Salida: [13, 10, 12, 15, 25, 20, 22] 0 6 pivote = 15\n"
     ]
    },
    {
     "data": {
      "text/plain": [
       "3"
      ]
     },
     "execution_count": 104,
     "metadata": {},
     "output_type": "execute_result"
    }
   ],
   "source": [
    "def quicksort1(lista, menor, mayor):\n",
    "    if menor < mayor:\n",
    "        print(lista) #bandera\n",
    "        pivotpoint = particion1(lista, menor, mayor)\n",
    "        quicksort1(lista, menor, pivotpoint - 1)\n",
    "        quicksort1(lista, pivotpoint + 1, mayor)\n",
    "\n",
    "def particion1(lista, menor, mayor):\n",
    "    pivot = lista[menor]\n",
    "    \n",
    "    left, right = menor + 1, mayor\n",
    "\n",
    "    while left < right:\n",
    "\n",
    "        while left <= right and lista[left] <= pivot:\n",
    "            left += 1\n",
    "\n",
    "        while left <= right and lista[right] >= pivot:\n",
    "            right -= 1\n",
    "\n",
    "        if left < right:\n",
    "            lista[left], lista[right] = lista[right], lista[left]\n",
    "\n",
    "    pivotpoint = right\n",
    "\n",
    "    lista[menor], lista[pivotpoint] = lista[pivotpoint], lista[menor]\n",
    "\n",
    "    print ('Salida:', lista, menor, mayor ,\"pivote =\", pivot)\n",
    "    return pivotpoint\n",
    "\n",
    "S = [15,10,12,20,25,13,22]\n",
    "particion1(S, 0, len(S)-1)\n",
    "\n"
   ]
  },
  {
   "cell_type": "markdown",
   "id": "5c53b843",
   "metadata": {},
   "source": [
    "___"
   ]
  },
  {
   "cell_type": "markdown",
   "id": "896ee09a",
   "metadata": {},
   "source": [
    "# Fin"
   ]
  }
 ],
 "metadata": {
  "kernelspec": {
   "display_name": "Python 3 (ipykernel)",
   "language": "python",
   "name": "python3"
  },
  "language_info": {
   "codemirror_mode": {
    "name": "ipython",
    "version": 3
   },
   "file_extension": ".py",
   "mimetype": "text/x-python",
   "name": "python",
   "nbconvert_exporter": "python",
   "pygments_lexer": "ipython3",
   "version": "3.12.4"
  }
 },
 "nbformat": 4,
 "nbformat_minor": 5
}
