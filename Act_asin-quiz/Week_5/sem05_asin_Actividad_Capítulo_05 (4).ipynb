{
 "cells": [
  {
   "cell_type": "markdown",
   "id": "5ad8356f",
   "metadata": {},
   "source": [
    "# Actividades Capítulo 5.\n",
    "\n",
    "\n",
    "# Algoritmos de clasificación.\n",
    "\n",
    "## Resumen de actividades\n",
    "\n",
    "\n",
    "- **Unidad 27.** Ordenamiento de burbuja, (Bubble Sort) algoritmo de ordenamiento, selección e inserción\n",
    "- **Unidad 28.** Ordenar por selección, ordenamiento por inserción.\n",
    "- **Unidad 29.** Clasificación rápida\n"
   ]
  },
  {
   "cell_type": "markdown",
   "id": "b5a9bca5-1466-4184-9ee1-c9da1c4f0003",
   "metadata": {},
   "source": [
    "##### Alumno: Julio Zambrano\n",
    "##### C.I: 30.720.044\n",
    "##### TLF: 0424-1880405\n",
    "##### Correo: JulioZambranocl@gmail.com"
   ]
  },
  {
   "cell_type": "markdown",
   "id": "8c5aa9c8",
   "metadata": {},
   "source": [
    "# Actividad: Ordenamiento de Burbuja\n",
    "\n",
    "\n",
    "## Instrucciones\n",
    "\n",
    "1. Explique brevemente y en forma clara cómo funciona el algoritmo de ordenamiento de burbuja.\n",
    "\n",
    "2. Desarrollo un función donde se use el ordenamiento de burbuja aplicada a una lista de valores enteros.\n",
    "\n"
   ]
  },
  {
   "cell_type": "code",
   "execution_count": 130,
   "id": "90cd2e33",
   "metadata": {},
   "outputs": [
    {
     "name": "stdout",
     "output_type": "stream",
     "text": [
      "[140, 10, 130, 190, 19]\n",
      "[10, 130, 140, 19, 190]\n",
      "[10, 130, 19, 140, 190]\n",
      "[10, 19, 130, 140, 190]\n",
      "[10, 19, 130, 140, 190]\n"
     ]
    },
    {
     "data": {
      "text/plain": [
       "[10, 19, 130, 140, 190]"
      ]
     },
     "execution_count": 130,
     "metadata": {},
     "output_type": "execute_result"
    }
   ],
   "source": [
    "# Espacio para desarrollar el código requerido, recuerde agregar algunos\n",
    "# comentarios breves sobre su funcionamiento.\n",
    "\n",
    "#El algoritmo de ordenamiento de burbuja funciona comparando el mayor dos elementos adyacentes y si se cumple la condicion intercambian posiciones\n",
    "#Siempre yendo al lado derecho, y se va a repetir este proceso hasta que el numero mayor se encuentre en el lado derecho del todo del arreglo.\n",
    "\n",
    "num = [140,10,130,190,19] # lista de numeros desordenados\n",
    "\n",
    "def bubblesort(S):\n",
    "    n = len(S) # n sera igual a la longitud de nuestra lista\n",
    "    for i in range(n): #iteramos una variable I sobre el rango de n\n",
    "        print(S) # bandera\n",
    "        \n",
    "        for j in range(n - 1 - i): # luego iteramos una variable J sobre el rango n - 1 Esto para evitar que compare el ultimo numero al final\n",
    "                                     # de la lista, puesto que ya esta ordenado y es una comprobacion inecesaria\n",
    "            if S[j] > S[j + 1]: # Si se cumple que el numero S[j], en el caso de la primera iteraccion seria 140, es mayor al que le sigue (10), intercambian posiciones\n",
    "                S[j], S[j + 1] = S[j + 1], S[j]\n",
    "    return S # retornamos la lista final\n",
    "bubblesort(num)\n"
   ]
  },
  {
   "cell_type": "markdown",
   "id": "a11871f3",
   "metadata": {},
   "source": [
    "# Actividad: Función Swap.\n",
    "\n",
    "1. Escriba una función que permita el intercambion de elementos en una lista.\n",
    "2. Los argumentos de esta función serán, la lista y los indices de los elementos que se desean intercambiar.\n",
    "3. En la siguiente celda desarrollo el código requerido, recuerde agregar comentarias breves que expliquen su funcionamiento.\n"
   ]
  },
  {
   "cell_type": "code",
   "execution_count": 29,
   "id": "1e7a5371",
   "metadata": {},
   "outputs": [
    {
     "name": "stdout",
     "output_type": "stream",
     "text": [
      "[20, 30, 40, 50]\n"
     ]
    }
   ],
   "source": [
    "# Espacio para desarrollar la actividad, si tienes alguna duda o comentario adicional\n",
    "# lo puedes dejar planteado acá.\n",
    "\n",
    "# La funcion swap nos permite intercambiar dos valores de una lista y se implementa de la siguiente manera:\n",
    "\n",
    "numeros = [20,30,50,40] # definimos la lista\n",
    "\n",
    "x = numeros.index(50) # agarramos el valor del indice del numero 50\n",
    "y = numeros.index(40) # agarramos el valor del indice del numero 40\n",
    "\n",
    "def swap(lista,x,y): # pedimos 3 parametros, la lista, y las dos posiciones a ser intercambiadas\n",
    "    \n",
    "    #asignamos el valor que tenemos en lista[y] que es 40, a la posicion de lista[x] que es 50, \n",
    "    # remplazando el valor, y viceversa con la otra posicion de la lista\n",
    "    lista[x], lista[y] = lista[y], lista[x]\n",
    "    return lista # retornamos lista para guardar cambios\n",
    "\n",
    "swap(numeros,x,y)\n",
    "print(numeros)\n"
   ]
  },
  {
   "cell_type": "markdown",
   "id": "a207d974",
   "metadata": {},
   "source": [
    "\n",
    "# Actividad: \n",
    "\n",
    "1. Explique brevemente el funcionamiento del algoritmo Quick Sort.\n",
    "2. Desarrollo el código para implementar el algoritmo Quick Sort.\n",
    "3. Revise las unidad 29, sección 1.1"
   ]
  },
  {
   "cell_type": "code",
   "execution_count": 12,
   "id": "a4f925a4",
   "metadata": {},
   "outputs": [
    {
     "name": "stdout",
     "output_type": "stream",
     "text": [
      "[15, 10, 12, 20, 25, 13, 22]\n",
      "[13, 10, 12, 15, 25, 20, 22]\n",
      "[12, 10, 13, 15, 25, 20, 22]\n",
      "[10, 12, 13, 15, 25, 20, 22]\n",
      "[10, 12, 13, 15, 22, 20, 25]\n"
     ]
    }
   ],
   "source": [
    "# Celda para desarrollar \n",
    "\n",
    "# En este algoritmo debemos seleccionar un pivote / numero en una lista dada\n",
    "\n",
    "numeros = [15,10,12,20,25,13,22] # Definimos nuestra lista\n",
    "\n",
    "# en nuestro caso vamos a elegir el primer numero de la lista como pivote (15)\n",
    "#y la idea es comparar los elementos restantes y dividirlo en dos grupos, en la parte izquierda los mas ligeros/pequeños que el pivote\n",
    "# y a la derecha los mas grandes/pesados que el pivote\n",
    "\n",
    "# nuestro ejemplo quedaria algo asi: numeros = [13,10,12, 15 ,25,20,22], estando el pivote en el medio\n",
    "# luego de la lista de los menores [13,10,12], elegimos el primer elemento como un pivote interno y comparamos a cada uno de los valores y lo manda a la parte derecha\n",
    "# lo mismo pasa con la otra lista que es [25,20,22]\n",
    "\n",
    "# quedando asi luego del primer ordenamiento numeros = [12,10 13,15, 22,20, 25] y continuamos dividiendo asi el trabajo hasta ordenarlo completamente \n",
    "# y que nos quede la lista ordenada tal que: numeros = [10,12,13,15,20,22,25]\n",
    "\n",
    "def quicksort1(lista, menor, mayor):\n",
    "    if menor < mayor:\n",
    "        print(lista) #bandera\n",
    "        pivotpoint = particion1(lista, menor, mayor)\n",
    "        quicksort1(lista, menor, pivotpoint - 1)\n",
    "        quicksort1(lista, pivotpoint + 1, mayor)\n",
    "\n",
    "def particion1(lista, menor, mayor):\n",
    "    pivot = lista[menor]\n",
    "    \n",
    "    left, right = menor + 1, mayor\n",
    "\n",
    "    while left < right:\n",
    "\n",
    "        while left <= right and lista[left] <= pivot:\n",
    "            left += 1\n",
    "\n",
    "        while left <= right and lista[right] >= pivot:\n",
    "            right -= 1\n",
    "\n",
    "        if left < right:\n",
    "            lista[left], lista[right] = lista[right], lista[left]\n",
    "\n",
    "    pivotpoint = right\n",
    "\n",
    "    lista[menor], lista[pivotpoint] = lista[pivotpoint], lista[menor]\n",
    "\n",
    "    return pivotpoint\n",
    "\n",
    "quicksort1(numeros, 0, len(numeros)-1)"
   ]
  },
  {
   "cell_type": "markdown",
   "id": "26a6bb9e",
   "metadata": {},
   "source": [
    "# Actividad: Quick Sort usando un valor de pivote aleatorio.\n",
    "\n",
    "1. Explique brevemente el funcionamiento del algoritmo Quick Sort en la modaladidad de usar un valor de pivote aleatorio.\n",
    "2. Comente las ventajas de esta variación.\n",
    "3. Desarrollo el código necesarion para este algoritmo.\n",
    "4. Agregue comentarios sobre su funcionamiento.\n",
    "\n"
   ]
  },
  {
   "cell_type": "code",
   "execution_count": 128,
   "id": "6670eace",
   "metadata": {},
   "outputs": [
    {
     "name": "stdout",
     "output_type": "stream",
     "text": [
      "[12, 10, 15, 20, 25, 13, 22] 0 6 Pivote = 12\n",
      "[10, 12, 22, 20, 25, 13, 15] 2 6 Pivote = 22\n",
      "[10, 12, 15, 20, 13, 22, 25] 2 4 Pivote = 15\n"
     ]
    }
   ],
   "source": [
    "# Espacio para desarrollar el código siguiendo las instrucciones.\n",
    "from random import randint\n",
    "\n",
    "#Ventaja: Debido a que el pivote es aleatorio esto trae como consecuencia que el algoritmo en la mayoria de casos\n",
    "#toma menos pasos para ordenar la lista\n",
    "\n",
    "def quicksort2(lista, menor, mayor):\n",
    "    if menor < mayor:\n",
    "        pivotpoint = particion2(lista, menor, mayor)\n",
    "        quicksort2(lista, menor, pivotpoint - 1)\n",
    "        quicksort2(lista, pivotpoint + 1, mayor)\n",
    "\n",
    "def particion2(lista, menor, mayor):\n",
    "    rand = randint(menor, mayor) # seleccionamos un indice random entre menor y mayor\n",
    "\n",
    "    lista[menor], lista[rand] = lista[rand], lista[menor] # intercambiamos el primer valor que agarra el algoritmo de la lista por dicho numero random\n",
    "\n",
    "    pivot, left, right = lista[menor], menor, mayor # establecemos que lista[menor] que fue escogido aleatoriamente para que sea el pivote\n",
    "    \n",
    "    print(lista, left, right, \"Pivote =\", pivot) # imprimimos los valores de la lista actual, el numero menor, el numero mayor y el pivote que escojio el programa\n",
    "    # de resto funciona igual que el primer codigo.\n",
    "    while left < right:\n",
    "\n",
    "        while left <= right and lista[left] <= pivot:\n",
    "            left += 1\n",
    "\n",
    "        while left <= right and lista[right] >= pivot:\n",
    "            right -= 1\n",
    "\n",
    "        if left < right:\n",
    "            lista[left], lista[right] = lista[right], lista[left]\n",
    "\n",
    "    pivotpoint = right\n",
    "\n",
    "    lista[menor], lista[pivotpoint] = lista[pivotpoint], lista[menor]\n",
    "\n",
    "    return pivotpoint\n",
    "    \n",
    "numeros = [15,10,12,20,25,13,22]\n",
    "quicksort2(numeros, 0, len(numeros)-1)\n",
    "\n"
   ]
  }
 ],
 "metadata": {
  "kernelspec": {
   "display_name": "Python 3 (ipykernel)",
   "language": "python",
   "name": "python3"
  },
  "language_info": {
   "codemirror_mode": {
    "name": "ipython",
    "version": 3
   },
   "file_extension": ".py",
   "mimetype": "text/x-python",
   "name": "python",
   "nbconvert_exporter": "python",
   "pygments_lexer": "ipython3",
   "version": "3.12.4"
  }
 },
 "nbformat": 4,
 "nbformat_minor": 5
}
