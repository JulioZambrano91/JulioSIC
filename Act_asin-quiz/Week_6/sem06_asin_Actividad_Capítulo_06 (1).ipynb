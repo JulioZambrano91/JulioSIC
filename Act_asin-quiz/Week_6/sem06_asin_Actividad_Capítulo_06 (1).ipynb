{
 "cells": [
  {
   "cell_type": "markdown",
   "id": "49909eb6",
   "metadata": {},
   "source": [
    "# Actividades Capítulo 6.\n",
    "\n",
    "\n",
    "# Algoritmos de clasificación.\n",
    "\n",
    "## Resumen de actividades\n",
    "\n",
    "- **Unidad 30.** Enfoque Greedy algoritmos voraces o ávidos.\n",
    "- **Unidad 31.** Divide y vencerás\n",
    "- **Unidad 32.** Programación dinámica\n",
    "- **Unidad 33.** Retroceso\n"
   ]
  },
  {
   "cell_type": "markdown",
   "id": "c53ce617-ae1a-4ef4-99e4-5bb28e1725be",
   "metadata": {},
   "source": [
    "##### Alumno: Julio Zambrano\n",
    "##### C.I: 30.720.044\n",
    "##### TLF: 0424-1880405\n",
    "##### Correo: JulioZambranocl@gmail.com"
   ]
  },
  {
   "cell_type": "markdown",
   "id": "780f0fff",
   "metadata": {},
   "source": [
    "# Actividad: Algoritmos Greedy.\n",
    "\n",
    "\n",
    "## Instrucciones\n",
    "\n",
    "1. Explique brevemente y en forma clara qué es un algoritmo Greedy y como funciona..\n",
    "\n",
    "2. Enumera algunas ventajas.\n",
    "\n",
    "3. Enumera algunas desventajas.\n",
    "\n",
    "4. Escriba el código desarrollado con el enfoque Greeddy para el problema de cambio de monedas, haga diferentes pruebas cambian las entradas (recuerde que las entrada de este algoritmo son las monedas disponibles y la cantida que se desea cubrir, con estas entradas el algoritmo debe retornar la combinación de monedas que cubre el monto solicitado, minimizando la cantidad de monedas usadas)\n",
    "\n",
    "5. Ahora pruebe los resultados con siguientes entradas: monedas_disponibles = [11, 5, 1] para cubrer la cantidad de 15, observe los resultados, haga algunas analísis de lo que pasaria con esta combinación de entradas.\n"
   ]
  },
  {
   "cell_type": "markdown",
   "id": "8faa91e7-815c-4386-8ee3-b0b8334c5b3d",
   "metadata": {},
   "source": [
    "#### Espacio disponible para desarrollar el código y agregar los comentarios necesarios.\n",
    "\n",
    "Enfoque Greedy: Este es un enfoque de programacion que es usado para resolver de manera eficiente y sencilla problemas de optimizacion, \n",
    "esta tecnica esta diseñada para seleccionar la mejor opcion en todo momento segun unos criterios previamente definidos.\n",
    "\n",
    "Este enfoque se aplica usando estos 3 pasos:\n",
    "\n",
    " 1: Proceso de seleccion: Elegir el siguiente elemento para añadirlo a un conjunto\n",
    " \n",
    " 2: Comprobacion de viabilidad: Comprobar si un nuevo conjunto es apropiado para ser la respuesta\n",
    " \n",
    " 3: Comprobacion de la solucion: Determina si un nuevo conjunto es la respuesta al problema\n",
    "\n",
    "##### Ventajas:\n",
    "\n",
    " 1 - Simplicidad: Son fáciles de implementar y entender.\n",
    " \n",
    " 2 - Velocidad: Generalmente más rápidos y eficientes en tiempo de ejecución.\n",
    " \n",
    " 3 - Aplicaciones prácticas: Útiles en problemas donde una solución óptima local lleva a una óptima global.\n",
    "\n",
    "##### Desventajas:\n",
    "\n",
    " 1 - Subóptimos: No siempre garantizan la mejor solución global.\n",
    " \n",
    " 2 - Limitación en problemas complejos: Pueden fallar en problemas donde la mejor solución requiere una visión a largo plazo.\n",
    " \n",
    " 3 - Análisis Complejo: Difícil de probar si una solución Greedy es la óptima para todos los casos."
   ]
  },
  {
   "cell_type": "code",
   "execution_count": 19,
   "id": "ce3917dd-bba9-4742-aafc-10a4e5132c00",
   "metadata": {},
   "outputs": [
    {
     "name": "stdout",
     "output_type": "stream",
     "text": [
      "Cambio: [500, 100, 100, 100]\n",
      "Cambio: [500, 500, 100, 100]\n",
      "Cambio: [50, 10, 10]\n"
     ]
    }
   ],
   "source": [
    "def cambio_moneda(monedas, cant):\n",
    "    cambios = []\n",
    "    mayor = 0\n",
    "    while cant > 0:\n",
    "        if cant < monedas[mayor]:\n",
    "            mayor += 1\n",
    "        else:\n",
    "            cambios.append(monedas[mayor])\n",
    "            cant -= monedas[mayor]\n",
    "    return cambios\n",
    "\n",
    "print(\"Cambio:\", cambio_moneda([500, 100, 50, 10], 800))\n",
    "print(\"Cambio:\",cambio_moneda([500, 100, 50, 10], 1200))\n",
    "print(\"Cambio:\", cambio_moneda([500, 100, 50, 10], 70))"
   ]
  },
  {
   "cell_type": "code",
   "execution_count": 15,
   "id": "e33a1744-9b22-4452-aca2-27ba5bc7f255",
   "metadata": {},
   "outputs": [
    {
     "name": "stdout",
     "output_type": "stream",
     "text": [
      "Cambio: [11, 1, 1, 1, 1]\n"
     ]
    }
   ],
   "source": [
    "print(\"Cambio:\", cambio_moneda([11,5,1 ], 15))\n",
    "\n",
    "# Cuando ejecutamos el codigo, lo que se hace es verificar el monto, en este caso es 15, el programa hace el primer bucle\n",
    "# que se le resta 11 a 15, quedando como monto = 4, y se agrega al cambio el 11, entonces se repite el proceso y como solo quedan\n",
    "# monedas de 1, se van añadiendo a cambio hasta que no haya mas dinero en caja y nos devuelve: [11, 1, 1, 1, 1], sin tocar el numero 5 "
   ]
  },
  {
   "cell_type": "markdown",
   "id": "89395b47",
   "metadata": {},
   "source": [
    "# Actividad: Replique el código de la búsqueda de la trayectoria triangular mínima.\n",
    "\n",
    "\n",
    "## Instrucciones\n",
    "\n",
    "\n",
    "1. Replique el código mostrado en la unidad 31.\n",
    "\n",
    "2. Analice el código replicado y agregue una explicíon sonbre su funcionamiento.\n",
    "\n",
    "3. Haga diferentes pruebas cambiando la entrada.\n"
   ]
  },
  {
   "cell_type": "code",
   "execution_count": 35,
   "id": "d446e273",
   "metadata": {},
   "outputs": [
    {
     "name": "stdout",
     "output_type": "stream",
     "text": [
      "La suma min es: 11\n",
      "La suma min es: 9\n"
     ]
    }
   ],
   "source": [
    "# Espacio para desarrollar el código y agregar los comentarios necesarios.\n",
    "\n",
    "def encontrar_min(fila, col, triangulo): # necesitaremos 3 parametros, el indice de la fila y columna junto al triangulo que analizaremos\n",
    "    \n",
    "    if fila == len(triangulo): # si el numero de fila es igual a la longitud del triangulo retornara 0\n",
    "        return 0\n",
    "        \n",
    "    else:\n",
    "        \n",
    "        minimo = min(encontrar_min(fila + 1, col, triangulo), # con la funcion min, obtendremos el numero minimo de 2 numeros, estos dos numeros\n",
    "                    encontrar_min(fila + 1, col + 1, triangulo)) # lo vamos a obtener llamando de nuevo a la funcion, haciendola recursiva\n",
    "                                                            # y de la forma en la que esta explicita, comparara cada numero de nuestro triangulo\n",
    "                                                            # y obtendra el minimo de cada fila\n",
    "        \n",
    "        return triangulo[fila][col] + minimo # a la final ese numero se le va a sumar al triangulo y nos dara el resultado final\n",
    "\n",
    "triangulo = [\n",
    "    [2],\n",
    "    [3,4],\n",
    "    [6,5,7],\n",
    "    [4,1,8,3]\n",
    "]\n",
    "\n",
    "print(\"La suma min es:\", encontrar_min(0, 0, triangulo))\n",
    "\n",
    "triangulo = [\n",
    "    [-5],\n",
    "    [13,42],\n",
    "    [6,0,7],\n",
    "    [4,1,8,3]\n",
    "]\n",
    "\n",
    "print(\"La suma min es:\", encontrar_min(0, 0, triangulo))\n"
   ]
  },
  {
   "cell_type": "markdown",
   "id": "881569fc",
   "metadata": {},
   "source": [
    "# Actividad: Búsqueda binaria con iteración.\n",
    "\n",
    "\n",
    "## Instrucciones\n",
    "\n",
    "\n",
    "1. Replique el código mostrado en la unidad 31.\n",
    "\n",
    "2. Analice el código replicado y agregue una explicíon sonbre su funcionamiento.\n",
    "\n",
    "3. Explique por qué es necesario usar usar una función recursiva.\n",
    "\n",
    "4. Haga diferentes pruebas cambiando la entrada.\n"
   ]
  },
  {
   "cell_type": "code",
   "execution_count": 56,
   "id": "0b1f525d",
   "metadata": {},
   "outputs": [],
   "source": [
    "# Espacio para desarrollar el código y agregar los comentarios necesarios.\n",
    "\n",
    "def busq_bin2(nums, x, menor, mayor):\n",
    "    if menor > mayor: # caso base: si menor > mayor , entonces nos devuelve -1 (false) y se termina el programa\n",
    "        return -1\n",
    "    else:\n",
    "        med = (menor + mayor) // 2 # sacamos la mitad de la lista dada\n",
    "        print(menor, mayor, '|', 'med')\n",
    "\n",
    "        if nums[med] == x: # si el numero que obtuvimos a sacar por la mitad es igual al que estamos buscando se termina el programa\n",
    "            return med # y nos devuelve la posicion de dicho numero\n",
    "            \n",
    "        elif nums[med] > x: # busca si el numero que tenemos es mayor al que estamos busando\n",
    "            return busq_bin2(nums, x, menor, med -1) # si es el caso llamamos de nuevo la funcion y repetimos este proceso\n",
    "        else:\n",
    "            return busq_bin2(nums, x, med + 1, mayor) # en caso contrario llamamos a esta funcion pero con estos parametros\n",
    "                                                        # y de igual forma se repite el proceso hasta que se cumpla el caso base \n",
    "                                                        # encuentre el numero que estamos buscando\n",
    "\n",
    "# La importancia de la recursividad en este caso es que nos ayuda a dividir la lista de \n",
    "# una manera facil reduciendo asi su complejida algoritmica.\n"
   ]
  },
  {
   "cell_type": "code",
   "execution_count": 50,
   "id": "d7db4398-bfd3-47d2-9ee9-38c95527adc8",
   "metadata": {},
   "outputs": [
    {
     "name": "stdin",
     "output_type": "stream",
     "text": [
      "Numero a buscar:  37\n"
     ]
    },
    {
     "name": "stdout",
     "output_type": "stream",
     "text": [
      "0 9 | med\n",
      "En lista 37 esta en la pos 4\n"
     ]
    },
    {
     "name": "stdin",
     "output_type": "stream",
     "text": [
      "Numero a buscar:  2\n"
     ]
    },
    {
     "name": "stdout",
     "output_type": "stream",
     "text": [
      "0 8 | med\n",
      "0 3 | med\n",
      "En lista 2 esta en la pos 1\n"
     ]
    }
   ],
   "source": [
    "lista = [11, 17, 26, 28, 37, 45, 53, 59, 81, 72]\n",
    "lista2 = [1,2,3,4,5,6,7,8,9]\n",
    "\n",
    "x = int(input('Numero a buscar: '))\n",
    "pos = busq_bin2(lista, x, 0, len(lista) - 1)\n",
    "print(f'En lista {x} esta en la pos {pos}')\n",
    "\n",
    "x = int(input('Numero a buscar: '))\n",
    "\n",
    "pos = busq_bin2(lista2, x, 0, len(lista2) - 1)\n",
    "print(f'En lista {x} esta en la pos {pos}')"
   ]
  },
  {
   "cell_type": "markdown",
   "id": "1087c522",
   "metadata": {},
   "source": [
    " Actividad: Comparación entre programación dinámica y la metodología divide y venceras.\n",
    "\n",
    "\n",
    "## Instrucciones\n",
    "\n",
    "\n",
    "1. Enumera las diferencias entre los dos efoques.\n",
    "\n",
    "2. Nombre algunos casos donde funcionam mejor la programación dinámica.\n",
    "\n",
    "3. Nombre ejemplos donde es suficiente usar el enfoque divide y venceras.\n",
    "\n",
    "\n",
    "\n",
    "**Espación para desarrollar la actividad:**\n",
    "\n",
    "\n",
    "\n",
    "\n",
    "\n",
    "\n",
    "\n",
    "\n",
    "\n",
    "\n"
   ]
  },
  {
   "cell_type": "markdown",
   "id": "3d79a438-7217-4b6a-ac1b-776ead781682",
   "metadata": {},
   "source": [
    "#### Diferencias y ejemplos de algoritmos donde se usan.\n",
    "\n",
    "Divide y Vencerás:\n",
    "\n",
    "* División en subproblemas independientes: Divide el problema en subproblemas que se resuelven de forma independiente y luego se combinan.\n",
    "\n",
    "* Complejidad: Eficiente para problemas que pueden dividirse y no dependen de las soluciones a subproblemas anteriores.\n",
    "\n",
    "* Ejemplo: Merge sort, quick sort, búsqueda binaria.\n",
    "\n",
    "Programación Dinámica:\n",
    "\n",
    "* Reutilización de subproblemas: Almacena soluciones a subproblemas ya resueltos para evitar cálculos repetitivos.\n",
    "\n",
    "* Complejidad: Eficiente para problemas donde los mismos subproblemas se repiten.\n",
    "\n",
    "* Ejemplo: Fibonacci.\n",
    "\n",
    "\n"
   ]
  }
 ],
 "metadata": {
  "kernelspec": {
   "display_name": "Python 3 (ipykernel)",
   "language": "python",
   "name": "python3"
  },
  "language_info": {
   "codemirror_mode": {
    "name": "ipython",
    "version": 3
   },
   "file_extension": ".py",
   "mimetype": "text/x-python",
   "name": "python",
   "nbconvert_exporter": "python",
   "pygments_lexer": "ipython3",
   "version": "3.12.4"
  }
 },
 "nbformat": 4,
 "nbformat_minor": 5
}
