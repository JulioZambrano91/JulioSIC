{
 "cells": [
  {
   "cell_type": "markdown",
   "id": "cedf9861-a30d-496f-bbfc-9b1d94a7e1b0",
   "metadata": {},
   "source": [
    "##### Alumno: Julio Zambrano\n",
    "##### C.I: 30.720.044\n",
    "##### TLF: 0424-1880405\n",
    "##### Correo: JulioZambranocl@gmail.com"
   ]
  },
  {
   "cell_type": "markdown",
   "id": "650dffaf-5fc4-488c-a948-2d28555b45a1",
   "metadata": {},
   "source": [
    "# Problema 2:\n",
    "¿Que sucede si la cantidad de monedas para el cambio es limitada?\n",
    "Ejem: Se tiene almacenado para el cambio la siguiente cantidad:\n",
    "\n",
    "1 de 500w, 1 de 100w, 3 de 50w y 2 de 10w\n",
    "\n",
    "¿Como se haria el cambio para 710w?"
   ]
  },
  {
   "cell_type": "code",
   "execution_count": 128,
   "id": "bb4b8d7e-e541-48ba-b35d-4c0296923fb4",
   "metadata": {},
   "outputs": [
    {
     "name": "stdin",
     "output_type": "stream",
     "text": [
      "Ingrese las monedas almacenadas:   1 500 1 100 3 50 2 10\n"
     ]
    },
    {
     "name": "stdout",
     "output_type": "stream",
     "text": [
      "[500, 100, 50, 10, 3, 2, 1, 1]\n"
     ]
    },
    {
     "name": "stdin",
     "output_type": "stream",
     "text": [
      "Monto:  710\n"
     ]
    },
    {
     "name": "stdout",
     "output_type": "stream",
     "text": [
      "[500, 100, 50, 50, 10] 5\n"
     ]
    }
   ],
   "source": [
    "def cambio_moneda2(monedas, cant): # [500, 100, 50, 10, 3, 2, 1, 1] - 710\n",
    "    cambio = [] # almacen de monedas a cambiar\n",
    "    pos = -1\n",
    "    i = 0\n",
    "    \n",
    "    while cant > 0:\n",
    "        if monedas[pos] == 0:\n",
    "            i += 1\n",
    "            pos -= 1\n",
    "        else:\n",
    "            cambio.append(monedas[i])\n",
    "            cant -= monedas[i]\n",
    "            monedas[pos] -= 1\n",
    "    return cambio\n",
    "    \n",
    "monedas = list(map(int, input(\"Ingrese las monedas almacenadas: \").split())) # 1 500 1 100 3 50 2 10\n",
    "monedas.sort(reverse = True) \n",
    "print(monedas) # [500, 100, 50, 10, 3, 2, 1, 1] 500 100 50 10 3 2 1 1\n",
    "cant =  int(input(\"Monto: \")) # 710\n",
    "cambios = cambio_moneda2(monedas, cant)\n",
    "print(cambios, len(cambios))"
   ]
  }
 ],
 "metadata": {
  "kernelspec": {
   "display_name": "Python 3 (ipykernel)",
   "language": "python",
   "name": "python3"
  },
  "language_info": {
   "codemirror_mode": {
    "name": "ipython",
    "version": 3
   },
   "file_extension": ".py",
   "mimetype": "text/x-python",
   "name": "python",
   "nbconvert_exporter": "python",
   "pygments_lexer": "ipython3",
   "version": "3.12.4"
  }
 },
 "nbformat": 4,
 "nbformat_minor": 5
}
