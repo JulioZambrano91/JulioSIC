{
 "cells": [
  {
   "cell_type": "markdown",
   "id": "6f27ce71-4670-4542-beb6-72f9ee021e2f",
   "metadata": {},
   "source": [
    "##### Alumno: Julio Zambrano\n",
    "##### C.I: 30.720.044\n",
    "##### TLF: 0424-1880405\n",
    "##### Correo: JulioZambranocl@gmail.com"
   ]
  },
  {
   "cell_type": "markdown",
   "id": "d53eb650-c222-456d-a881-4e2ce6ba37f3",
   "metadata": {},
   "source": [
    "# Problema 1:\n",
    "Supongamos que existe una moneda de 400, escriba el resultado de \"Cambio_moneda\" \n",
    "en caso de que el usuario requiera un cambio de 800"
   ]
  },
  {
   "cell_type": "code",
   "execution_count": 58,
   "id": "1e3bf7df-4f4c-4b50-8132-03fae3bf61ce",
   "metadata": {},
   "outputs": [],
   "source": [
    "def cambio_moneda(monedas, cant):\n",
    "    cambios = []\n",
    "    mayor = 0\n",
    "    while cant > 0:\n",
    "        if cant % monedas[1] == 0:\n",
    "            cambios.append(monedas[1])\n",
    "            cant -= monedas[1]\n",
    "        elif cant < monedas[mayor]:\n",
    "            mayor += 1\n",
    "        else:\n",
    "            cambios.append(monedas[mayor])\n",
    "            cant -= monedas[mayor]\n",
    "    return cambios"
   ]
  },
  {
   "cell_type": "markdown",
   "id": "36b7830c-3af1-4a42-b328-7919a9143322",
   "metadata": {},
   "source": [
    "### Explicacion del codigo por corrida:\n",
    "\n",
    "#### 1ra corrida: \n",
    "\n",
    "* cambio_moneda recibe como parametros [500, 400, 100, 50, 10] y el monto: 800\n",
    "* cambios = [] permanece vacio\n",
    "* mayor = 0 se iguala a 0\n",
    "\n",
    "* El bucle while se ejecuta mientras el monto sea mayor a 0\n",
    "\n",
    "* va a la primera condicion: cantidad % monedas[1] == 0, aqui lo que le decimos es si el numero que tenemos es division exacta de monedas[1] (que en nuestro caso es 400), osea compara si 800 % 400 == 0, cosa que es verdad, y se ejecuta el codigo y se hacen los\n",
    "siguientes cambios:\n",
    "\n",
    "* cambios pasa a valer [400]\n",
    "* el monto de 800 se resta con 400, y nos quedaria ya como monto (cant) total de 400\n",
    "\n",
    "#### 2da corrida: \n",
    "\n",
    "* se sigue en el bucle while ya que cant es mayor a 0 (monto: 400 > 0)\n",
    "\n",
    "* se ejecuta el primer if: cant % monedas[1] == 0, cosa que es verdad ya que 400 % 400 == 0 y se ejecutan los siguientes cambios:\n",
    "\n",
    "* cambios pasa a valer [400, 400]\n",
    "* el monto de 400 se resta con 400, y ya no nos quedaria nada, tendriamos de monto 0  \n",
    "\n",
    "#### 3er corrida:\n",
    "\n",
    "* el bucle while se detiene, debido a que la cantidad que tenemos (0) no es mayor a 0\n",
    "* retorna el valor de la variable cambios, osea devuelve [400, 400]\n",
    "* se termina la ejecucion de nuestro programa"
   ]
  },
  {
   "cell_type": "code",
   "execution_count": 61,
   "id": "ec3bc167-ba40-4c94-8adc-ab8a885b3ce0",
   "metadata": {},
   "outputs": [
    {
     "name": "stdin",
     "output_type": "stream",
     "text": [
      "Monto:  800\n"
     ]
    },
    {
     "name": "stdout",
     "output_type": "stream",
     "text": [
      "[400, 400] 2\n"
     ]
    }
   ],
   "source": [
    "monedas = [500, 400, 100, 50, 10]\n",
    "\n",
    "cant = int(input(\"Monto: \")) # ingrese -> 800\n",
    "cambios = cambio_moneda(monedas, cant)\n",
    "print(cambios, len(cambios))"
   ]
  },
  {
   "cell_type": "code",
   "execution_count": 63,
   "id": "59ea8a26-7a10-4365-91f0-9a6f91f7384f",
   "metadata": {},
   "outputs": [
    {
     "name": "stdin",
     "output_type": "stream",
     "text": [
      "Monto:  870\n"
     ]
    },
    {
     "name": "stdout",
     "output_type": "stream",
     "text": [
      "[500, 100, 100, 100, 50, 10, 10] 7\n"
     ]
    }
   ],
   "source": [
    "monedas = [500, 400, 100, 50, 10]\n",
    "\n",
    "cant = int(input(\"Monto: \")) # ingrese ->  870\n",
    "cambios = cambio_moneda(monedas, cant)\n",
    "print(cambios, len(cambios))"
   ]
  },
  {
   "cell_type": "code",
   "execution_count": 65,
   "id": "a570dfeb-0d41-4dbc-9137-8c8f68810e19",
   "metadata": {},
   "outputs": [
    {
     "name": "stdin",
     "output_type": "stream",
     "text": [
      "Monto:  1200\n"
     ]
    },
    {
     "name": "stdout",
     "output_type": "stream",
     "text": [
      "[400, 400, 400] 3\n"
     ]
    }
   ],
   "source": [
    "monedas = [500, 400, 100, 50, 10]\n",
    "\n",
    "cant = int(input(\"Monto: \")) # ingrese ->  1200\n",
    "cambios = cambio_moneda(monedas, cant)\n",
    "print(cambios, len(cambios))"
   ]
  },
  {
   "cell_type": "code",
   "execution_count": 67,
   "id": "6691f062-716f-4a33-88ac-12ea24788aad",
   "metadata": {},
   "outputs": [
    {
     "name": "stdin",
     "output_type": "stream",
     "text": [
      "Monto:  450\n"
     ]
    },
    {
     "name": "stdout",
     "output_type": "stream",
     "text": [
      "[400, 50] 2\n"
     ]
    }
   ],
   "source": [
    "monedas = [500, 400, 100, 50, 10]\n",
    "\n",
    "cant = int(input(\"Monto: \")) # ingrese la cantidad de su preferencia.\n",
    "cambios = cambio_moneda(monedas, cant)\n",
    "print(cambios, len(cambios))"
   ]
  }
 ],
 "metadata": {
  "kernelspec": {
   "display_name": "Python 3 (ipykernel)",
   "language": "python",
   "name": "python3"
  },
  "language_info": {
   "codemirror_mode": {
    "name": "ipython",
    "version": 3
   },
   "file_extension": ".py",
   "mimetype": "text/x-python",
   "name": "python",
   "nbconvert_exporter": "python",
   "pygments_lexer": "ipython3",
   "version": "3.12.4"
  }
 },
 "nbformat": 4,
 "nbformat_minor": 5
}
